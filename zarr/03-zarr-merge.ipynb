{
 "cells": [
  {
   "cell_type": "code",
   "execution_count": 243,
   "metadata": {},
   "outputs": [],
   "source": [
    "from typing import List, Tuple, Dict, Optional, List\n",
    "from datetime import time\n",
    "import pandas as pd\n",
    "import numpy as np\n",
    "import zarr\n",
    "import sys\n",
    "import os"
   ]
  },
  {
   "cell_type": "markdown",
   "metadata": {},
   "source": [
    "## Merge Function\n",
    "\n",
    "Implement a function called `merge_zarr_datasets` that takes a list of datasets and merges them according to the following specifications\n",
    "\n",
    "1. Each dataset is represented as a dictionary where:\n",
    "    - The keys are `array_type` strings\n",
    "    - The values are tuples containing (zarr_array, feature_list)\n",
    "    - All `array_types` within a dataset have the same number of rows and the same row order.\n",
    "2. The function should merge datasets by combining arrays of the same `array_type` across all datasets.\n",
    "3. If an `array_type` is missing in one or more datasets, it should be generated on the fly with zero values, matching the shape of existing arrays of that type in the dataset.\n",
    "4. All arrays contain int64 values.\n",
    "5. For each `array_type`, create a union of all features from all datasets. The merged array should include all these features, filling with zeros where necessary.\n",
    "6. The rows from all datasets should be combined and randomized in the output, not simply concatenated serially. The randomization should maintain the relationship between rows across all `array_types`.\n",
    "7. The function should return a merged dataset in the same format as the input datasets.\n",
    "8. The solution should be optimized to handle up to 5 million rows in the merged dataset, potentially merging hundreds of datasets, each with 2-3 `array_types` and 50 to 50,000 features in each `array_type`."
   ]
  },
  {
   "cell_type": "markdown",
   "metadata": {},
   "source": [
    "## Solution\n",
    "\n",
    "The solution is implemented in the `merge_zarr_datasets` function, which takes a list of datasets and returns a merged dataset according to the specifications provided.\n",
    "\n",
    "The function works as follows:\n",
    "1. It first determines the union of all `array_types` and features across all datasets.\n",
    "2. It then creates a merged dataset with zero values for all `array_types` and features.\n",
    "3. It iterates over each dataset and fills the merged dataset with values from the current dataset.\n",
    "4. It randomizes the rows of the merged dataset to maintain the relationship between rows across all `array_types`."
   ]
  },
  {
   "cell_type": "markdown",
   "metadata": {},
   "source": [
    "Data:\n",
    "- Features up to $50,000$\n",
    "- Rows up to $5,000,000$\n",
    "- Max matrix = $50,000 * 5,000,000 = 250,000,000,000$\n",
    "\n",
    "Size:\n",
    "- Each int64 value is $8$ bytes\n",
    "- Max size = $250,000,000,000 * 8 = 2,000,000,000,000$ bytes\n",
    "- $= 2,000,000,000,000 / 1024 = 1,953,125,000$ KB\n",
    "- $= 1,953,125,000 / 1024 = 1,907,348$ MB\n",
    "- $= 1,907,348 / 1024 = 1,863$ GB\n",
    "- $= 1,863 / 1024 = 1.82$ TB\n",
    "\n",
    "\n",
    "\n",
    "A single row with $50,000$ features would be $400,000$ bytes or $390.625$ KB. This is a reasonable size for a single row. A reasonable number of rows in a chunk would be $10,000$ rows, which would be $3.9$ GB. This is a reasonable size for a chunk.\n",
    "\n",
    "But Blosc compressor used by Zarr has a buffer size limit of 2 GB. So, we need to keep the chunk size below 2 GB. Reducing the row per chunk to $5,000$ rows would make the chunk size $1.95$ GB, which is below the 2 GB limit.\n",
    "\n",
    "For chunks of size $2,500$ rows, the chunk size would be $976.5625$ MB, which is also below the 2 GB limit."
   ]
  },
  {
   "cell_type": "code",
   "execution_count": 244,
   "metadata": {},
   "outputs": [],
   "source": [
    "dataset1 = {\n",
    " \"type_A\": (zarr.array([[1, 2, 0], [3, 4, 0]]), [\"feature1\", \"feature2\", \"feature3\"]),\n",
    " \"type_B\": (zarr.array([[5, 6], [7, 8]]), [\"feature4\", \"feature5\"])\n",
    "}\n",
    "dataset2 = {\n",
    " \"type_A\": (zarr.array([[7, 8, 9], [10, 11, 12]]), [\"feature1\", \"feature2\", \"feature4\"]),\n",
    " \"type_C\": (zarr.array([[10, 11], [12, 13]]), [\"feature6\", \"feature7\"])\n",
    "}\n",
    "datasets = [dataset1, dataset2]"
   ]
  },
  {
   "cell_type": "code",
   "execution_count": 245,
   "metadata": {},
   "outputs": [],
   "source": [
    "def check_available_name() -> str:\n",
    "    '''\n",
    "    Check the available name for the new merged array\n",
    "    Args:\n",
    "        None\n",
    "    Returns:\n",
    "        str: the name of the new merged array\n",
    "    '''\n",
    "    folders = os.listdir()\n",
    "    # check folder name starting with merged_arrays\n",
    "    folders = [folder for folder in folders if folder.startswith(\"merged_arrays\")]\n",
    "    folders.sort()\n",
    "    # return the next name\n",
    "    return f\"merged_arrays_{len(folders)+1}.zarr\""
   ]
  },
  {
   "cell_type": "code",
   "execution_count": 246,
   "metadata": {},
   "outputs": [],
   "source": [
    "def print_func(merged_arrays: Dict[str, Tuple[zarr.Array, List[str]]]):\n",
    "    for key, val in merged_arrays.items():\n",
    "        features = val[1]\n",
    "        print(f'Array Type: {key}')\n",
    "        # print features\n",
    "        for feat in features:\n",
    "            print(feat, end='\\t')\n",
    "        print()\n",
    "        # print data\n",
    "        for row in val[0]:\n",
    "            for col in row:\n",
    "                print(col,' '*(10-len(str(col))), end=' '*5)\n",
    "            print()\n",
    "        print()"
   ]
  },
  {
   "cell_type": "code",
   "execution_count": 247,
   "metadata": {},
   "outputs": [],
   "source": [
    "def permute_in_chunks(size:int, chunk_size:int, seed:int=42) -> List[int]:\n",
    "    '''\n",
    "    Permutate an array in chunks of a given size.\n",
    "    Args:\n",
    "        size: The size of the array to be permuted\n",
    "        chunk_size: The size of the chunks to permute\n",
    "    Returns:\n",
    "        A permuted array of the given size\n",
    "    Examples:\n",
    "    >>> permute_in_chunks(10, 3)\n",
    "    array([2, 0, 1, 5, 4, 3, 9, 7, 8, 6])\n",
    "    '''\n",
    "    np.random.seed(seed)\n",
    "    arr = np.arange(size)\n",
    "    permuted_arr = np.empty(size, dtype=int)\n",
    "    \n",
    "    for start in range(0, size, chunk_size):\n",
    "        end = start + chunk_size\n",
    "        permuted_arr[start:end] = np.random.permutation(arr[start:end])\n",
    "\n",
    "    return list(permuted_arr)"
   ]
  },
  {
   "cell_type": "code",
   "execution_count": 248,
   "metadata": {},
   "outputs": [
    {
     "name": "stdout",
     "output_type": "stream",
     "text": [
      "Size in KB: 39062.5546875\n",
      "Size in MB: 38.14702606201172\n"
     ]
    }
   ],
   "source": [
    "res = permute_in_chunks(5000000, 1000)\n",
    "size = sys.getsizeof(res)\n",
    "print(f'Size in KB: {size/1024}')\n",
    "print(f'Size in MB: {size/1024**2}')"
   ]
  },
  {
   "cell_type": "code",
   "execution_count": 249,
   "metadata": {},
   "outputs": [],
   "source": [
    "def make_zarr_group(total_rows:int, all_array_types:List[str], feature_mappings:Dict[str, List[str]], seed:int=42) -> zarr.Group:\n",
    "    '''\n",
    "    Create a zarr group with the given parameters.\n",
    "    Args:\n",
    "        total_rows: The total number of rows in the group\n",
    "        all_array_types: A list of all array types in the group\n",
    "        feature_mappings: A dictionary mapping array types to their features\n",
    "        seed: The seed for the random number generator\n",
    "    Returns:\n",
    "        group: A zarr group with the given parameters\n",
    "    '''\n",
    "    group = zarr.group(store=zarr.DirectoryStore(f'{check_available_name()}'))\n",
    "    group.attrs['total_rows'] = total_rows\n",
    "    group.attrs['all_array_types'] = list(all_array_types)\n",
    "    group.attrs['feature_mappings'] = feature_mappings\n",
    "    group.attrs['seed'] = seed\n",
    "    group.attrs['datetime'] = pd.Timestamp.now().strftime('%Y-%m-%d %H:%M:%S')\n",
    "    return group"
   ]
  },
  {
   "cell_type": "code",
   "execution_count": 250,
   "metadata": {},
   "outputs": [],
   "source": [
    "def case_of_one(dataset:Dict[str, Tuple[zarr.Array, List[str]]]) -> Dict[str, Tuple[zarr.Array, List[str]]]:\n",
    "    '''\n",
    "    Return the dataset with randomised rows and features.\n",
    "    Args:\n",
    "        dataset: A dictionary of arrays to merge\n",
    "    Returns:\n",
    "        merged_array: A dictionary containing the merged array\n",
    "    '''\n",
    "    total_rows = dataset[list(dataset.keys())[0]][0].shape[0]\n",
    "    shuffled_rows = permute_in_chunks(total_rows, 1000)\n",
    "    row_hash = {array_type: shuffled_rows.copy() for array_type in dataset.keys()}\n",
    "    feature_mappings = {}\n",
    "\n",
    "    for array_type, features in dataset.items():\n",
    "        permuted_features = np.random.permutation(features[1])\n",
    "        feature_mappings[array_type] = {feature: idx for idx, feature in enumerate(permuted_features)}\n",
    "\n",
    "    merged_arrays = {}\n",
    "    merged_arrays_zarr = make_zarr_group(total_rows, list(dataset.keys()), feature_mappings)\n",
    "    for array_type in dataset.keys():\n",
    "        merged_arrays[array_type] = zarr.zeros(shape=(total_rows, len(feature_mappings[array_type])), dtype=np.int64, chunks=(10000, len(feature_mappings[array_type])), store=f'{array_type}.zarr', overwrite=True, default_fill_value=0)\n",
    "        merged_arrays[array_type].attrs['features'] = list(feature_mappings[array_type])\n",
    "\n",
    "        source_array, source_features = dataset[array_type]\n",
    "        for row in range(total_rows):\n",
    "            select_row = row_hash[array_type].pop(0)\n",
    "            for feature in source_features:\n",
    "                val = source_array.vindex[row, source_features.index(feature)]\n",
    "                merged_arrays[array_type].vindex[select_row, feature_mappings[array_type][feature]] = val\n",
    "\n",
    "    return_merged_array = {array_type: (merged_arrays[array_type], list(feature_mappings[array_type])) for array_type in dataset.keys()}\n",
    "    return return_merged_array"
   ]
  },
  {
   "cell_type": "code",
   "execution_count": 251,
   "metadata": {},
   "outputs": [],
   "source": [
    "def merge_zarr_datasets(datasets: List[Dict[str, Tuple[zarr.Array, List[str]]]]) -> Dict[str, Tuple[zarr.Array, List[str]]]:\n",
    "    seed = 42\n",
    "    np.random.seed(seed)\n",
    "    \n",
    "    if not datasets: # Case for empty datasets\n",
    "        raise ValueError(\"No datasets provided\")\n",
    "    if len(datasets) == 1: # Case for one dataset -- no need to merge, return a randomised dataset \n",
    "        return_merged_array = case_of_one(datasets[0])\n",
    "        return return_merged_array\n",
    "\n",
    "    # Part 1: Collect all array types, their features, and calculate total rows\n",
    "    all_array_types = set()\n",
    "    feature_sets = {}\n",
    "    total_rows = 0\n",
    "    for dataset in datasets:\n",
    "        # All `array_types` within a dataset have the same number of rows and the same row order. Loading the actual data can be expensive, so we only load the first dataset. Possible: Create an iterator to avoid loading all datasets. total_rows += next(iter(dataset.values()))[0].shape[0]\n",
    "        total_rows += dataset[list(dataset.keys())[0]][0].shape[0]\n",
    "        for array_type, (array, features) in dataset.items(): # Make a single pass through the dataset to collect all array types and features\n",
    "            all_array_types.add(array_type)\n",
    "            if array_type not in feature_sets:\n",
    "                feature_sets[array_type] = set()\n",
    "            feature_sets[array_type].update(features) # Update a set with the union of itself and others\n",
    "    print('Total Rows:', total_rows)\n",
    "    # Part 2: Create a Feature Mapping (Hash Table) for each array type\n",
    "    feature_mappings = {} # This will be useful when we need to map features to their respective columns\n",
    "    for array_type, features in feature_sets.items():\n",
    "        permuted_features = np.random.permutation(list(features)) # Randomly permute the features\n",
    "        feature_mappings[array_type] = {feature: idx for idx, feature in enumerate(permuted_features)}\n",
    "    \n",
    "    print(feature_mappings)\n",
    "\n",
    "    # Part 3: Create a new dataset with the merged data\n",
    "    merged_arrays = {}\n",
    "    merged_arrays_zarr = make_zarr_group(total_rows, all_array_types, feature_mappings)\n",
    "\n",
    "    for array_type in all_array_types:\n",
    "        num_features = len(feature_sets[array_type])\n",
    "        # A new merged array for each array type\n",
    "        merged_arrays[array_type] = merged_arrays_zarr.zeros(shape=(total_rows, num_features), dtype=np.int64, name=f'{array_type}.zarr', overwrite=True)#, chunks=(2500, num_features)\n",
    "        merged_arrays[array_type].attrs['features'] = list(feature_sets[array_type])\n",
    "\n",
    "    # Part 4: Merge the data\n",
    "    # We will iterate through each dataset and merge the data into the new dataset\n",
    "    # We will create a hash for each row which is filled -- this will help us when filling the merged dataset randomly\n",
    "    # permutate in chunks of 1000\n",
    "    shuffled_rows = permute_in_chunks(total_rows, 2500)\n",
    "    row_hash = {arr_type: shuffled_rows.copy() for arr_type in all_array_types} #Explicitly copy the list to avoid reference issues & Maintain randomization across all rows\n",
    "\n",
    "    for dataset in datasets:\n",
    "        print(\"Starting new dataset\")\n",
    "        in_rows = dataset[list(dataset.keys())[0]][0].shape[0] # Number of rows in current dataset\n",
    "        # print(in_rows)\n",
    "        for array_type in all_array_types:\n",
    "            # print('\\tRunning for array type:', array_type)\n",
    "            if array_type == 'type_C' or array_type == 'type_B':\n",
    "                continue\n",
    "            if array_type in dataset.keys():\n",
    "                source_array, source_features = dataset[array_type]\n",
    "                # Map the features to their respective columns\n",
    "                for rows in range(in_rows):\n",
    "                    # print(f'\\t\\tRunning for row: {rows}/{in_rows}',end='\\r')\n",
    "                    # get the row number to be filled in the merged dataset -- we are ensuring that we fill the merged dataset randomly but in optimal fashion -- one chunk at a time.\n",
    "                    select_row = row_hash[array_type].pop(0)\n",
    "                    \n",
    "                    # Order source features based on the feature_sets[array_type]\n",
    "                    source_features_ordered = [feature_mappings[array_type][feature] for feature in source_features]\n",
    "                    # print('\\t\\t',source_features)\n",
    "                    source_features_data = source_array[rows, :]\n",
    "                    # print('\\t\\t',source_features_data)\n",
    "                    # print('\\t\\t',feature_mappings[array_type])\n",
    "                    # print('\\t\\t',source_features_ordered)\n",
    "                    \n",
    "                    feed = zarr.zeros(shape=(len(feature_mappings[array_type])), dtype=np.int64)\n",
    "                    feed[source_features_ordered] = source_features_data\n",
    "                    # print('\\t\\tFeed:',list(feed))\n",
    "                    # print('\\t\\tRow:',select_row)\n",
    "\n",
    "                    merged_arrays[array_type][select_row, :] = feed\n",
    "                    # print('\\t\\tMerge:',list(merged_arrays[array_type]))\n",
    "                    # print()\n",
    "\n",
    "                    # for feature in source_features:\n",
    "                    #     # Not Optimized -- Loaded everytime and stored everytime -- figure out bulk assignment\n",
    "                    #     merged_arrays[array_type].vindex[select_row, feature_mappings[array_type][feature]] = source_array.vindex[rows, source_features.index(feature)]\n",
    "                        # merged_arrays[array_type][select_row, feature_mappings[array_type][feature]] = source_array[rows, source_features.index(feature)]\n",
    "                        # Bulk assignment\n",
    "                        # merged_arrays[array_type][select_row, feature_mappings[array_type][feature]] = source_array[rows, source_features.index(feature)]\n",
    "\n",
    "    return_merged_array = {}\n",
    "    for array_type in all_array_types:\n",
    "        return_merged_array[array_type] = (merged_arrays[array_type], list(feature_mappings[array_type]))\n",
    "    return return_merged_array"
   ]
  },
  {
   "cell_type": "code",
   "execution_count": 252,
   "metadata": {},
   "outputs": [
    {
     "name": "stdout",
     "output_type": "stream",
     "text": [
      "Total Rows: 4\n",
      "{'type_A': {'feature4': 0, 'feature2': 1, 'feature1': 2, 'feature3': 3}, 'type_B': {'feature4': 0, 'feature5': 1}, 'type_C': {'feature6': 0, 'feature7': 1}}\n",
      "Starting new dataset\n",
      "Starting new dataset\n",
      "CPU times: user 8.22 ms, sys: 17.7 ms, total: 25.9 ms\n",
      "Wall time: 75.5 ms\n"
     ]
    }
   ],
   "source": [
    "%time merged_arrays = merge_zarr_datasets(datasets)"
   ]
  },
  {
   "cell_type": "code",
   "execution_count": 253,
   "metadata": {},
   "outputs": [
    {
     "name": "stdout",
     "output_type": "stream",
     "text": [
      "Array Type: type_C\n",
      "feature6\tfeature7\t\n",
      "0               0               \n",
      "0               0               \n",
      "0               0               \n",
      "0               0               \n",
      "\n",
      "Array Type: type_A\n",
      "feature4\tfeature2\tfeature1\tfeature3\t\n",
      "9               8               7               0               \n",
      "0               2               1               0               \n",
      "12              11              10              0               \n",
      "0               4               3               0               \n",
      "\n",
      "Array Type: type_B\n",
      "feature4\tfeature5\t\n",
      "0               0               \n",
      "0               0               \n",
      "0               0               \n",
      "0               0               \n",
      "\n"
     ]
    }
   ],
   "source": [
    "print_func(merged_arrays)"
   ]
  },
  {
   "cell_type": "code",
   "execution_count": null,
   "metadata": {},
   "outputs": [],
   "source": []
  },
  {
   "cell_type": "code",
   "execution_count": 213,
   "metadata": {},
   "outputs": [],
   "source": [
    "def verify_randomization(original_datasets: List[Dict[str, Tuple[zarr.Array, List[str]]]], merged_dataset: Dict[str, Tuple[zarr.Array, List[str]]]) -> bool:\n",
    "    '''\n",
    "    Verify that the merged dataset is a randomization of the original datasets.\n",
    "    Args:\n",
    "        original_datasets: The original datasets to be merged\n",
    "        merged_dataset: The merged dataset\n",
    "    Returns:\n",
    "        bool: True if the merged dataset is a randomization of the original datasets, False otherwise\n",
    "    '''\n",
    "    # Part 1: Collect all array types, their features, and calculate total rows\n",
    "    all_array_types = set()\n",
    "    feature_sets = {}\n",
    "    total_rows = merged_dataset[list(merged_dataset.keys())[0]][0].shape[0]\n",
    "    for array_type, (array, features) in merged_dataset.items():\n",
    "        all_array_types.add(array_type)\n",
    "        if array_type not in feature_sets:\n",
    "            feature_sets[array_type] = set()\n",
    "        feature_sets[array_type].update(features)\n",
    "    \n",
    "    # Part 2: Create a Feature Mapping (Hash Table) for each array type\n",
    "    feature_mappings = {\n",
    "        array_type: {feature: idx for idx, feature in enumerate(features)}\n",
    "        for array_type, features in feature_sets.items()\n",
    "    }\n",
    "\n",
    "    # Part 3: Verify the randomization\n",
    "    for array_type in all_array_types:\n",
    "        merged_array, merged_features = merged_dataset[array_type]\n",
    "        for dataset in original_datasets:\n",
    "            original_arr_types = set(dataset.keys())\n",
    "            if array_type not in original_arr_types:\n",
    "                continue\n",
    "            original_array, original_features = dataset[array_type]\n",
    "            original_features_mapped = [feature_mappings[array_type][feature] for feature in original_features]\n",
    "            original_features_mapped = np.sort(original_features_mapped)\n",
    "            merged_array_feature_indexed = merged_array[:, original_features_mapped]\n",
    "            original_array_ordered = original_array[:, np.argsort(original_features_mapped)]\n",
    "            for row in range(len(original_array_ordered)):\n",
    "                original_row = original_array_ordered[row]\n",
    "                if original_row not in merged_array_feature_indexed:\n",
    "                    print(f'Row {original_row} from {array_type} not found in the merged dataset {merged_array_feature_indexed}')\n",
    "                    return False\n",
    "    return True"
   ]
  },
  {
   "cell_type": "code",
   "execution_count": 88,
   "metadata": {},
   "outputs": [
    {
     "data": {
      "text/plain": [
       "True"
      ]
     },
     "execution_count": 88,
     "metadata": {},
     "output_type": "execute_result"
    }
   ],
   "source": [
    "verify_randomization(datasets, merged_arrays)"
   ]
  },
  {
   "cell_type": "code",
   "execution_count": 122,
   "metadata": {},
   "outputs": [],
   "source": [
    "# Make test sets to verify the function\n",
    "dataset_a1 = {\n",
    "    \"type_A\": (zarr.array(np.random.randint(0, 10, (10, 10))), [f\"feature{i}\" for i in range(10)]),\n",
    "    \"type_B\": (zarr.array(np.random.randint(0, 10, (10, 10))), [f\"feature{i}\" for i in range(10)])\n",
    "    }\n",
    "dataset_a2 = {\n",
    "    \"type_A\": (zarr.array(np.random.randint(0, 10, (10, 10))), [f\"feature{i}\" for i in range(10)]),\n",
    "    \"type_C\": (zarr.array(np.random.randint(0, 10, (10, 10))), [f\"feature{i}\" for i in range(10)]),\n",
    "    \"type_D\": (zarr.array(np.random.randint(0, 10, (10, 10))), [f\"feature{i}\" for i in range(10)])\n",
    "}\n",
    "dataset_a3 = {\n",
    "    \"type_A\": (zarr.array(np.random.randint(0, 10, (10, 10))), [f\"feature{i}\" for i in range(10)]),\n",
    "    \"type_B\": (zarr.array(np.random.randint(0, 10, (10, 10))), [f\"feature{i}\" for i in range(10)]),\n",
    "    \"type_C\": (zarr.array(np.random.randint(0, 10, (10, 10))), [f\"feature{i}\" for i in range(10)]),\n",
    "    \"type_D\": (zarr.array(np.random.randint(0, 10, (10, 10))), [f\"feature{i}\" for i in range(10)])\n",
    "}\n",
    "\n",
    "test_set1 = [dataset_a1, dataset_a2, dataset_a3]\n",
    "\n",
    "# Larger test set using store and 100 rows and 100 columns\n",
    "dataset_b1 = {\n",
    "    \"type_A\": (zarr.array(np.random.randint(0, 10, (10, 100))), [f\"feature{i}\" for i in range(100)]),\n",
    "    \"type_B\": (zarr.array(np.random.randint(0, 10, (10, 100))), [f\"feature{i}\" for i in range(100)])\n",
    "    }\n",
    "dataset_b2 = {\n",
    "    \"type_A\": (zarr.array(np.random.randint(0, 10, (10, 100))), [f\"feature{i}\" for i in range(100)]),\n",
    "    \"type_C\": (zarr.array(np.random.randint(0, 10, (10, 100))), [f\"feature{i}\" for i in range(100)]),\n",
    "    \"type_D\": (zarr.array(np.random.randint(0, 10, (10, 100))), [f\"feature{i}\" for i in range(100)])\n",
    "}\n",
    "dataset_b3 = {\n",
    "    \"type_A\": (zarr.array(np.random.randint(0, 10, (10, 100))), [f\"feature{i}\" for i in range(100)]),\n",
    "    \"type_B\": (zarr.array(np.random.randint(0, 10, (10, 100))), [f\"feature{i}\" for i in range(100)]),\n",
    "    \"type_C\": (zarr.array(np.random.randint(0, 10, (10, 100))), [f\"feature{i}\" for i in range(100)]),\n",
    "    \"type_D\": (zarr.array(np.random.randint(0, 10, (10, 100))), [f\"feature{i}\" for i in range(100)])\n",
    "}\n",
    "test_set2 = [dataset_b1, dataset_b2, dataset_b3]\n",
    "\n",
    "dataset_c1 = {\n",
    "    \"type_A\": (zarr.array(np.random.randint(0, 10, (10, 1000))), [f\"feature{i}\" for i in range(1000)]),\n",
    "    \"type_B\": (zarr.array(np.random.randint(0, 10, (10, 1000))), [f\"feature{i}\" for i in range(1000)])\n",
    "    }\n",
    "dataset_c2 = {\n",
    "    \"type_A\": (zarr.array(np.random.randint(0, 10, (10, 1000))), [f\"feature{i}\" for i in range(1000)]),\n",
    "    \"type_C\": (zarr.array(np.random.randint(0, 10, (10, 1000))), [f\"feature{i}\" for i in range(1000)]),\n",
    "    \"type_D\": (zarr.array(np.random.randint(0, 10, (10, 1000))), [f\"feature{i}\" for i in range(1000)])\n",
    "}\n",
    "dataset_c3 = {\n",
    "    \"type_A\": (zarr.array(np.random.randint(0, 10, (10, 1000))), [f\"feature{i}\" for i in range(1000)]),\n",
    "    \"type_B\": (zarr.array(np.random.randint(0, 10, (10, 1000))), [f\"feature{i}\" for i in range(1000)]),\n",
    "    \"type_C\": (zarr.array(np.random.randint(0, 10, (10, 1000))), [f\"feature{i}\" for i in range(1000)]),\n",
    "    \"type_D\": (zarr.array(np.random.randint(0, 10, (10, 1000))), [f\"feature{i}\" for i in range(1000)])\n",
    "}\n",
    "test_set3 = [dataset_c1, dataset_c2, dataset_c3]\n",
    "\n",
    "dataset_d1 = {\n",
    "    \"type_A\": (zarr.array(np.random.randint(0, 10, (10, 10000))), [f\"feature{i}\" for i in range(10000)]),\n",
    "    \"type_B\": (zarr.array(np.random.randint(0, 10, (10, 10000))), [f\"feature{i}\" for i in range(10000)])\n",
    "    }\n",
    "dataset_d2 = {\n",
    "    \"type_A\": (zarr.array(np.random.randint(0, 10, (10, 10000))), [f\"feature{i}\" for i in range(10000)]),\n",
    "    \"type_C\": (zarr.array(np.random.randint(0, 10, (10, 10000))), [f\"feature{i}\" for i in range(10000)]),\n",
    "    \"type_D\": (zarr.array(np.random.randint(0, 10, (10, 10000))), [f\"feature{i}\" for i in range(10000)])\n",
    "}\n",
    "dataset_d3 = {\n",
    "    \"type_A\": (zarr.array(np.random.randint(0, 10, (10, 10000))), [f\"feature{i}\" for i in range(10000)]),\n",
    "    \"type_B\": (zarr.array(np.random.randint(0, 10, (10, 10000))), [f\"feature{i}\" for i in range(10000)]),\n",
    "    \"type_C\": (zarr.array(np.random.randint(0, 10, (10, 10000))), [f\"feature{i}\" for i in range(10000)]),\n",
    "    \"type_D\": (zarr.array(np.random.randint(0, 10, (10, 10000))), [f\"feature{i}\" for i in range(10000)])\n",
    "}\n",
    "test_set4 = [dataset_d1, dataset_d2, dataset_d3]\n",
    "\n",
    "dataset_e1 = {\n",
    "    \"type_A\": (zarr.array(np.random.randint(0, 10, (10, 100000))), [f\"feature{i}\" for i in range(100000)]),\n",
    "    \"type_B\": (zarr.array(np.random.randint(0, 10, (10, 100000))), [f\"feature{i}\" for i in range(100000)])\n",
    "    }\n",
    "dataset_e2 = {\n",
    "    \"type_A\": (zarr.array(np.random.randint(0, 10, (10, 100000))), [f\"feature{i}\" for i in range(100000)]),\n",
    "    \"type_C\": (zarr.array(np.random.randint(0, 10, (10, 100000))), [f\"feature{i}\" for i in range(100000)]),\n",
    "    \"type_D\": (zarr.array(np.random.randint(0, 10, (10, 100000))), [f\"feature{i}\" for i in range(100000)]\n",
    "    )\n",
    "}\n",
    "dataset_e3 = {\n",
    "    \"type_A\": (zarr.array(np.random.randint(0, 10, (10, 100000))), [f\"feature{i}\" for i in range(100000)]),\n",
    "    \"type_B\": (zarr.array(np.random.randint(0, 10, (10, 100000))), [f\"feature{i}\" for i in range(100000)]),\n",
    "    \"type_C\": (zarr.array(np.random.randint(0, 10, (10, 100000))), [f\"feature{i}\" for i in range(100000)]),\n",
    "    \"type_D\": (zarr.array(np.random.randint(0, 10, (10, 100000))), [f\"feature{i}\" for i in range(100000)])\n",
    "}\n",
    "test_set5 = [dataset_e1, dataset_e2, dataset_e3]"
   ]
  },
  {
   "cell_type": "code",
   "execution_count": 240,
   "metadata": {},
   "outputs": [
    {
     "name": "stdout",
     "output_type": "stream",
     "text": [
      "Total Rows: 30\n",
      "{'type_A': {'feature8': 0, 'feature1': 1, 'feature9': 2, 'feature2': 3, 'feature3': 4, 'feature6': 5, 'feature7': 6, 'feature5': 7, 'feature0': 8, 'feature4': 9}, 'type_B': {'feature2': 0, 'feature1': 1, 'feature8': 2, 'feature9': 3, 'feature0': 4, 'feature5': 5, 'feature3': 6, 'feature7': 7, 'feature4': 8, 'feature6': 9}, 'type_C': {'feature7': 0, 'feature6': 1, 'feature2': 2, 'feature4': 3, 'feature8': 4, 'feature9': 5, 'feature0': 6, 'feature3': 7, 'feature1': 8, 'feature5': 9}, 'type_D': {'feature1': 0, 'feature3': 1, 'feature4': 2, 'feature6': 3, 'feature8': 4, 'feature2': 5, 'feature0': 6, 'feature5': 7, 'feature9': 8, 'feature7': 9}}\n",
      "Starting new dataset\n",
      "Starting new dataset\n",
      "Starting new dataset\n",
      "CPU times: user 50 ms, sys: 18.2 ms, total: 68.2 ms\n",
      "Wall time: 73.6 ms\n"
     ]
    }
   ],
   "source": [
    "%time merged_data_a1 = merge_zarr_datasets(test_set1)"
   ]
  },
  {
   "cell_type": "code",
   "execution_count": 150,
   "metadata": {},
   "outputs": [
    {
     "name": "stdout",
     "output_type": "stream",
     "text": [
      "Total Rows: 30\n",
      "Starting new dataset\n",
      "\tRunning for array type: type_C\n",
      "\tRunning for array type: type_D\n",
      "\tRunning for array type: type_A\n",
      "\tRunning for array type: type_B\n",
      "Starting new dataset/10\n",
      "\tRunning for array type: type_C\n",
      "\tRunning for array type: type_D\n",
      "\tRunning for array type: type_A\n",
      "\tRunning for array type: type_B\n",
      "Starting new dataset\n",
      "\tRunning for array type: type_C\n",
      "\tRunning for array type: type_D\n",
      "\tRunning for array type: type_A\n",
      "\tRunning for array type: type_B\n",
      "CPU times: user 419 ms, sys: 150 ms, total: 569 ms\n",
      "Wall time: 568 ms\n"
     ]
    }
   ],
   "source": [
    "%time merged_data_a1 = merge_zarr_datasets(test_set1)"
   ]
  },
  {
   "cell_type": "code",
   "execution_count": 241,
   "metadata": {},
   "outputs": [
    {
     "name": "stdout",
     "output_type": "stream",
     "text": [
      "Total Rows: 30\n",
      "{'type_A': {'feature20': 0, 'feature70': 1, 'feature4': 2, 'feature74': 3, 'feature15': 4, 'feature84': 5, 'feature53': 6, 'feature43': 7, 'feature48': 8, 'feature35': 9, 'feature56': 10, 'feature69': 11, 'feature8': 12, 'feature12': 13, 'feature19': 14, 'feature23': 15, 'feature11': 16, 'feature46': 17, 'feature32': 18, 'feature64': 19, 'feature36': 20, 'feature5': 21, 'feature92': 22, 'feature87': 23, 'feature30': 24, 'feature71': 25, 'feature72': 26, 'feature76': 27, 'feature57': 28, 'feature73': 29, 'feature85': 30, 'feature98': 31, 'feature47': 32, 'feature94': 33, 'feature52': 34, 'feature60': 35, 'feature37': 36, 'feature22': 37, 'feature50': 38, 'feature41': 39, 'feature67': 40, 'feature96': 41, 'feature1': 42, 'feature66': 43, 'feature93': 44, 'feature68': 45, 'feature13': 46, 'feature29': 47, 'feature91': 48, 'feature18': 49, 'feature88': 50, 'feature49': 51, 'feature63': 52, 'feature14': 53, 'feature3': 54, 'feature26': 55, 'feature2': 56, 'feature77': 57, 'feature51': 58, 'feature38': 59, 'feature31': 60, 'feature17': 61, 'feature24': 62, 'feature27': 63, 'feature79': 64, 'feature99': 65, 'feature59': 66, 'feature0': 67, 'feature7': 68, 'feature39': 69, 'feature9': 70, 'feature44': 71, 'feature21': 72, 'feature97': 73, 'feature34': 74, 'feature16': 75, 'feature90': 76, 'feature40': 77, 'feature86': 78, 'feature62': 79, 'feature80': 80, 'feature78': 81, 'feature55': 82, 'feature95': 83, 'feature33': 84, 'feature89': 85, 'feature25': 86, 'feature6': 87, 'feature58': 88, 'feature75': 89, 'feature81': 90, 'feature10': 91, 'feature54': 92, 'feature42': 93, 'feature65': 94, 'feature83': 95, 'feature28': 96, 'feature45': 97, 'feature61': 98, 'feature82': 99}, 'type_B': {'feature9': 0, 'feature55': 1, 'feature22': 2, 'feature24': 3, 'feature71': 4, 'feature65': 5, 'feature17': 6, 'feature29': 7, 'feature31': 8, 'feature63': 9, 'feature62': 10, 'feature52': 11, 'feature75': 12, 'feature37': 13, 'feature36': 14, 'feature8': 15, 'feature84': 16, 'feature69': 17, 'feature41': 18, 'feature67': 19, 'feature83': 20, 'feature70': 21, 'feature20': 22, 'feature58': 23, 'feature5': 24, 'feature57': 25, 'feature56': 26, 'feature42': 27, 'feature10': 28, 'feature38': 29, 'feature21': 30, 'feature34': 31, 'feature97': 32, 'feature11': 33, 'feature16': 34, 'feature19': 35, 'feature90': 36, 'feature54': 37, 'feature80': 38, 'feature88': 39, 'feature26': 40, 'feature48': 41, 'feature95': 42, 'feature68': 43, 'feature74': 44, 'feature13': 45, 'feature47': 46, 'feature89': 47, 'feature60': 48, 'feature99': 49, 'feature30': 50, 'feature33': 51, 'feature61': 52, 'feature25': 53, 'feature0': 54, 'feature81': 55, 'feature64': 56, 'feature32': 57, 'feature50': 58, 'feature94': 59, 'feature87': 60, 'feature4': 61, 'feature15': 62, 'feature14': 63, 'feature78': 64, 'feature49': 65, 'feature82': 66, 'feature91': 67, 'feature79': 68, 'feature44': 69, 'feature45': 70, 'feature3': 71, 'feature92': 72, 'feature18': 73, 'feature86': 74, 'feature35': 75, 'feature6': 76, 'feature46': 77, 'feature59': 78, 'feature77': 79, 'feature76': 80, 'feature27': 81, 'feature51': 82, 'feature7': 83, 'feature53': 84, 'feature98': 85, 'feature66': 86, 'feature12': 87, 'feature85': 88, 'feature28': 89, 'feature73': 90, 'feature2': 91, 'feature93': 92, 'feature72': 93, 'feature23': 94, 'feature40': 95, 'feature39': 96, 'feature96': 97, 'feature1': 98, 'feature43': 99}, 'type_C': {'feature97': 0, 'feature94': 1, 'feature47': 2, 'feature20': 3, 'feature45': 4, 'feature57': 5, 'feature87': 6, 'feature25': 7, 'feature90': 8, 'feature52': 9, 'feature15': 10, 'feature92': 11, 'feature83': 12, 'feature32': 13, 'feature65': 14, 'feature59': 15, 'feature74': 16, 'feature72': 17, 'feature18': 18, 'feature7': 19, 'feature70': 20, 'feature79': 21, 'feature28': 22, 'feature86': 23, 'feature16': 24, 'feature60': 25, 'feature49': 26, 'feature1': 27, 'feature78': 28, 'feature46': 29, 'feature91': 30, 'feature12': 31, 'feature22': 32, 'feature42': 33, 'feature5': 34, 'feature54': 35, 'feature98': 36, 'feature13': 37, 'feature75': 38, 'feature3': 39, 'feature61': 40, 'feature51': 41, 'feature23': 42, 'feature85': 43, 'feature62': 44, 'feature17': 45, 'feature29': 46, 'feature26': 47, 'feature2': 48, 'feature96': 49, 'feature44': 50, 'feature95': 51, 'feature69': 52, 'feature53': 53, 'feature67': 54, 'feature88': 55, 'feature31': 56, 'feature93': 57, 'feature9': 58, 'feature39': 59, 'feature77': 60, 'feature63': 61, 'feature14': 62, 'feature80': 63, 'feature84': 64, 'feature40': 65, 'feature82': 66, 'feature8': 67, 'feature4': 68, 'feature37': 69, 'feature34': 70, 'feature50': 71, 'feature11': 72, 'feature68': 73, 'feature6': 74, 'feature43': 75, 'feature21': 76, 'feature73': 77, 'feature71': 78, 'feature48': 79, 'feature19': 80, 'feature0': 81, 'feature58': 82, 'feature55': 83, 'feature41': 84, 'feature36': 85, 'feature10': 86, 'feature24': 87, 'feature99': 88, 'feature81': 89, 'feature30': 90, 'feature64': 91, 'feature38': 92, 'feature27': 93, 'feature89': 94, 'feature33': 95, 'feature56': 96, 'feature35': 97, 'feature76': 98, 'feature66': 99}, 'type_D': {'feature34': 0, 'feature23': 1, 'feature12': 2, 'feature7': 3, 'feature52': 4, 'feature78': 5, 'feature82': 6, 'feature86': 7, 'feature48': 8, 'feature5': 9, 'feature57': 10, 'feature24': 11, 'feature31': 12, 'feature73': 13, 'feature10': 14, 'feature87': 15, 'feature15': 16, 'feature45': 17, 'feature13': 18, 'feature85': 19, 'feature46': 20, 'feature71': 21, 'feature18': 22, 'feature81': 23, 'feature35': 24, 'feature68': 25, 'feature72': 26, 'feature43': 27, 'feature50': 28, 'feature2': 29, 'feature28': 30, 'feature54': 31, 'feature32': 32, 'feature16': 33, 'feature20': 34, 'feature9': 35, 'feature17': 36, 'feature94': 37, 'feature14': 38, 'feature3': 39, 'feature77': 40, 'feature36': 41, 'feature11': 42, 'feature29': 43, 'feature42': 44, 'feature99': 45, 'feature38': 46, 'feature33': 47, 'feature53': 48, 'feature76': 49, 'feature59': 50, 'feature22': 51, 'feature67': 52, 'feature4': 53, 'feature30': 54, 'feature84': 55, 'feature37': 56, 'feature61': 57, 'feature69': 58, 'feature44': 59, 'feature88': 60, 'feature63': 61, 'feature6': 62, 'feature26': 63, 'feature40': 64, 'feature64': 65, 'feature91': 66, 'feature62': 67, 'feature89': 68, 'feature8': 69, 'feature58': 70, 'feature51': 71, 'feature60': 72, 'feature74': 73, 'feature75': 74, 'feature27': 75, 'feature41': 76, 'feature97': 77, 'feature39': 78, 'feature96': 79, 'feature49': 80, 'feature56': 81, 'feature98': 82, 'feature83': 83, 'feature0': 84, 'feature80': 85, 'feature93': 86, 'feature66': 87, 'feature65': 88, 'feature19': 89, 'feature92': 90, 'feature1': 91, 'feature70': 92, 'feature79': 93, 'feature55': 94, 'feature95': 95, 'feature25': 96, 'feature47': 97, 'feature21': 98, 'feature90': 99}}\n",
      "Starting new dataset\n",
      "Starting new dataset\n",
      "Starting new dataset\n",
      "CPU times: user 88 ms, sys: 9.56 ms, total: 97.5 ms\n",
      "Wall time: 98.9 ms\n"
     ]
    }
   ],
   "source": [
    "%time merged_data_b1 = merge_zarr_datasets(test_set2)"
   ]
  },
  {
   "cell_type": "code",
   "execution_count": 151,
   "metadata": {},
   "outputs": [
    {
     "name": "stdout",
     "output_type": "stream",
     "text": [
      "Total Rows: 30\n",
      "Starting new dataset\n",
      "\tRunning for array type: type_C\n",
      "\tRunning for array type: type_D\n",
      "\tRunning for array type: type_A\n",
      "\tRunning for array type: type_B\n",
      "Starting new dataset/10\n",
      "\tRunning for array type: type_C\n",
      "\tRunning for array type: type_D\n",
      "\tRunning for array type: type_A\n",
      "\tRunning for array type: type_B\n",
      "Starting new dataset\n",
      "\tRunning for array type: type_C\n",
      "\tRunning for array type: type_D\n",
      "\tRunning for array type: type_A\n",
      "\tRunning for array type: type_B\n",
      "CPU times: user 5.39 s, sys: 999 ms, total: 6.39 s\n",
      "Wall time: 6.4 s\n"
     ]
    }
   ],
   "source": [
    "%time merged_data_b1 = merge_zarr_datasets(test_set2)"
   ]
  },
  {
   "cell_type": "code",
   "execution_count": 242,
   "metadata": {},
   "outputs": [
    {
     "name": "stdout",
     "output_type": "stream",
     "text": [
      "Total Rows: 30\n",
      "{'type_A': {'feature140': 0, 'feature878': 1, 'feature312': 2, 'feature880': 3, 'feature181': 4, 'feature457': 5, 'feature226': 6, 'feature60': 7, 'feature105': 8, 'feature239': 9, 'feature56': 10, 'feature823': 11, 'feature386': 12, 'feature240': 13, 'feature466': 14, 'feature426': 15, 'feature777': 16, 'feature592': 17, 'feature201': 18, 'feature328': 19, 'feature946': 20, 'feature972': 21, 'feature851': 22, 'feature991': 23, 'feature664': 24, 'feature929': 25, 'feature396': 26, 'feature113': 27, 'feature812': 28, 'feature249': 29, 'feature368': 30, 'feature379': 31, 'feature789': 32, 'feature639': 33, 'feature820': 34, 'feature917': 35, 'feature603': 36, 'feature485': 37, 'feature523': 38, 'feature161': 39, 'feature918': 40, 'feature333': 41, 'feature767': 42, 'feature86': 43, 'feature142': 44, 'feature643': 45, 'feature764': 46, 'feature447': 47, 'feature985': 48, 'feature175': 49, 'feature64': 50, 'feature809': 51, 'feature905': 52, 'feature981': 53, 'feature441': 54, 'feature891': 55, 'feature308': 56, 'feature339': 57, 'feature163': 58, 'feature794': 59, 'feature214': 60, 'feature222': 61, 'feature431': 62, 'feature336': 63, 'feature505': 64, 'feature208': 65, 'feature957': 66, 'feature752': 67, 'feature95': 68, 'feature863': 69, 'feature838': 70, 'feature159': 71, 'feature475': 72, 'feature445': 73, 'feature402': 74, 'feature742': 75, 'feature581': 76, 'feature728': 77, 'feature347': 78, 'feature830': 79, 'feature13': 80, 'feature637': 81, 'feature540': 82, 'feature865': 83, 'feature707': 84, 'feature835': 85, 'feature349': 86, 'feature118': 87, 'feature257': 88, 'feature215': 89, 'feature141': 90, 'feature942': 91, 'feature832': 92, 'feature855': 93, 'feature227': 94, 'feature391': 95, 'feature654': 96, 'feature510': 97, 'feature261': 98, 'feature883': 99, 'feature730': 100, 'feature959': 101, 'feature953': 102, 'feature997': 103, 'feature555': 104, 'feature892': 105, 'feature65': 106, 'feature645': 107, 'feature952': 108, 'feature4': 109, 'feature665': 110, 'feature537': 111, 'feature76': 112, 'feature657': 113, 'feature632': 114, 'feature827': 115, 'feature207': 116, 'feature411': 117, 'feature32': 118, 'feature367': 119, 'feature104': 120, 'feature776': 121, 'feature503': 122, 'feature615': 123, 'feature703': 124, 'feature943': 125, 'feature299': 126, 'feature693': 127, 'feature417': 128, 'feature944': 129, 'feature743': 130, 'feature342': 131, 'feature459': 132, 'feature968': 133, 'feature276': 134, 'feature620': 135, 'feature594': 136, 'feature408': 137, 'feature270': 138, 'feature617': 139, 'feature496': 140, 'feature674': 141, 'feature649': 142, 'feature559': 143, 'feature964': 144, 'feature22': 145, 'feature958': 146, 'feature941': 147, 'feature127': 148, 'feature158': 149, 'feature83': 150, 'feature306': 151, 'feature352': 152, 'feature549': 153, 'feature325': 154, 'feature47': 155, 'feature237': 156, 'feature595': 157, 'feature381': 158, 'feature194': 159, 'feature756': 160, 'feature642': 161, 'feature722': 162, 'feature77': 163, 'feature661': 164, 'feature183': 165, 'feature919': 166, 'feature271': 167, 'feature893': 168, 'feature88': 169, 'feature116': 170, 'feature382': 171, 'feature97': 172, 'feature895': 173, 'feature171': 174, 'feature150': 175, 'feature978': 176, 'feature252': 177, 'feature926': 178, 'feature374': 179, 'feature185': 180, 'feature101': 181, 'feature933': 182, 'feature473': 183, 'feature248': 184, 'feature451': 185, 'feature708': 186, 'feature302': 187, 'feature332': 188, 'feature107': 189, 'feature514': 190, 'feature470': 191, 'feature700': 192, 'feature135': 193, 'feature623': 194, 'feature195': 195, 'feature263': 196, 'feature38': 197, 'feature980': 198, 'feature96': 199, 'feature844': 200, 'feature894': 201, 'feature584': 202, 'feature438': 203, 'feature40': 204, 'feature680': 205, 'feature124': 206, 'feature881': 207, 'feature786': 208, 'feature669': 209, 'feature875': 210, 'feature186': 211, 'feature753': 212, 'feature266': 213, 'feature99': 214, 'feature230': 215, 'feature998': 216, 'feature168': 217, 'feature567': 218, 'feature199': 219, 'feature868': 220, 'feature521': 221, 'feature798': 222, 'feature406': 223, 'feature362': 224, 'feature852': 225, 'feature359': 226, 'feature580': 227, 'feature948': 228, 'feature951': 229, 'feature169': 230, 'feature102': 231, 'feature673': 232, 'feature840': 233, 'feature277': 234, 'feature569': 235, 'feature272': 236, 'feature357': 237, 'feature879': 238, 'feature256': 239, 'feature765': 240, 'feature160': 241, 'feature136': 242, 'feature223': 243, 'feature916': 244, 'feature842': 245, 'feature799': 246, 'feature305': 247, 'feature518': 248, 'feature616': 249, 'feature254': 250, 'feature229': 251, 'feature932': 252, 'feature125': 253, 'feature939': 254, 'feature12': 255, 'feature360': 256, 'feature30': 257, 'feature11': 258, 'feature940': 259, 'feature604': 260, 'feature5': 261, 'feature74': 262, 'feature180': 263, 'feature260': 264, 'feature828': 265, 'feature356': 266, 'feature16': 267, 'feature262': 268, 'feature686': 269, 'feature720': 270, 'feature966': 271, 'feature732': 272, 'feature220': 273, 'feature677': 274, 'feature157': 275, 'feature600': 276, 'feature486': 277, 'feature902': 278, 'feature427': 279, 'feature913': 280, 'feature18': 281, 'feature541': 282, 'feature837': 283, 'feature423': 284, 'feature310': 285, 'feature524': 286, 'feature787': 287, 'feature166': 288, 'feature440': 289, 'feature588': 290, 'feature857': 291, 'feature915': 292, 'feature871': 293, 'feature689': 294, 'feature304': 295, 'feature833': 296, 'feature741': 297, 'feature392': 298, 'feature519': 299, 'feature390': 300, 'feature284': 301, 'feature884': 302, 'feature179': 303, 'feature889': 304, 'feature641': 305, 'feature27': 306, 'feature779': 307, 'feature552': 308, 'feature737': 309, 'feature72': 310, 'feature811': 311, 'feature527': 312, 'feature153': 313, 'feature320': 314, 'feature790': 315, 'feature219': 316, 'feature971': 317, 'feature115': 318, 'feature454': 319, 'feature543': 320, 'feature768': 321, 'feature791': 322, 'feature458': 323, 'feature483': 324, 'feature121': 325, 'feature672': 326, 'feature744': 327, 'feature19': 328, 'feature954': 329, 'feature682': 330, 'feature92': 331, 'feature467': 332, 'feature897': 333, 'feature462': 334, 'feature210': 335, 'feature550': 336, 'feature825': 337, 'feature416': 338, 'feature522': 339, 'feature196': 340, 'feature363': 341, 'feature923': 342, 'feature471': 343, 'feature727': 344, 'feature731': 345, 'feature711': 346, 'feature409': 347, 'feature648': 348, 'feature493': 349, 'feature247': 350, 'feature734': 351, 'feature425': 352, 'feature93': 353, 'feature874': 354, 'feature774': 355, 'feature63': 356, 'feature405': 357, 'feature854': 358, 'feature389': 359, 'feature922': 360, 'feature548': 361, 'feature198': 362, 'feature725': 363, 'feature806': 364, 'feature137': 365, 'feature912': 366, 'feature691': 367, 'feature841': 368, 'feature571': 369, 'feature558': 370, 'feature120': 371, 'feature7': 372, 'feature334': 373, 'feature993': 374, 'feature982': 375, 'feature192': 376, 'feature147': 377, 'feature668': 378, 'feature154': 379, 'feature839': 380, 'feature721': 381, 'feature663': 382, 'feature861': 383, 'feature148': 384, 'feature477': 385, 'feature748': 386, 'feature228': 387, 'feature499': 388, 'feature931': 389, 'feature337': 390, 'feature660': 391, 'feature872': 392, 'feature757': 393, 'feature329': 394, 'feature365': 395, 'feature596': 396, 'feature994': 397, 'feature474': 398, 'feature209': 399, 'feature687': 400, 'feature622': 401, 'feature843': 402, 'feature287': 403, 'feature398': 404, 'feature424': 405, 'feature9': 406, 'feature59': 407, 'feature638': 408, 'feature415': 409, 'feature293': 410, 'feature309': 411, 'feature650': 412, 'feature679': 413, 'feature370': 414, 'feature740': 415, 'feature20': 416, 'feature896': 417, 'feature303': 418, 'feature634': 419, 'feature170': 420, 'feature488': 421, 'feature925': 422, 'feature69': 423, 'feature967': 424, 'feature561': 425, 'feature55': 426, 'feature515': 427, 'feature377': 428, 'feature202': 429, 'feature690': 430, 'feature103': 431, 'feature656': 432, 'feature924': 433, 'feature876': 434, 'feature509': 435, 'feature560': 436, 'feature259': 437, 'feature947': 438, 'feature437': 439, 'feature188': 440, 'feature231': 441, 'feature81': 442, 'feature597': 443, 'feature676': 444, 'feature242': 445, 'feature770': 446, 'feature688': 447, 'feature90': 448, 'feature112': 449, 'feature678': 450, 'feature109': 451, 'feature478': 452, 'feature920': 453, 'feature750': 454, 'feature225': 455, 'feature610': 456, 'feature717': 457, 'feature846': 458, 'feature403': 459, 'feature418': 460, 'feature666': 461, 'feature532': 462, 'feature935': 463, 'feature344': 464, 'feature819': 465, 'feature760': 466, 'feature410': 467, 'feature850': 468, 'feature130': 469, 'feature322': 470, 'feature15': 471, 'feature419': 472, 'feature44': 473, 'feature482': 474, 'feature989': 475, 'feature836': 476, 'feature324': 477, 'feature627': 478, 'feature84': 479, 'feature200': 480, 'feature755': 481, 'feature267': 482, 'feature551': 483, 'feature85': 484, 'feature593': 485, 'feature71': 486, 'feature14': 487, 'feature26': 488, 'feature930': 489, 'feature539': 490, 'feature449': 491, 'feature133': 492, 'feature636': 493, 'feature250': 494, 'feature859': 495, 'feature453': 496, 'feature218': 497, 'feature784': 498, 'feature574': 499, 'feature635': 500, 'feature697': 501, 'feature401': 502, 'feature353': 503, 'feature155': 504, 'feature464': 505, 'feature659': 506, 'feature759': 507, 'feature75': 508, 'feature6': 509, 'feature706': 510, 'feature281': 511, 'feature371': 512, 'feature826': 513, 'feature354': 514, 'feature816': 515, 'feature738': 516, 'feature313': 517, 'feature575': 518, 'feature780': 519, 'feature144': 520, 'feature211': 521, 'feature533': 522, 'feature900': 523, 'feature43': 524, 'feature286': 525, 'feature577': 526, 'feature245': 527, 'feature979': 528, 'feature151': 529, 'feature433': 530, 'feature58': 531, 'feature710': 532, 'feature348': 533, 'feature626': 534, 'feature862': 535, 'feature0': 536, 'feature834': 537, 'feature106': 538, 'feature822': 539, 'feature670': 540, 'feature814': 541, 'feature490': 542, 'feature345': 543, 'feature796': 544, 'feature413': 545, 'feature508': 546, 'feature94': 547, 'feature182': 548, 'feature167': 549, 'feature783': 550, 'feature66': 551, 'feature990': 552, 'feature621': 553, 'feature498': 554, 'feature538': 555, 'feature772': 556, 'feature646': 557, 'feature956': 558, 'feature295': 559, 'feature123': 560, 'feature323': 561, 'feature908': 562, 'feature860': 563, 'feature297': 564, 'feature203': 565, 'feature619': 566, 'feature831': 567, 'feature556': 568, 'feature436': 569, 'feature173': 570, 'feature89': 571, 'feature934': 572, 'feature292': 573, 'feature761': 574, 'feature542': 575, 'feature675': 576, 'feature815': 577, 'feature91': 578, 'feature652': 579, 'feature847': 580, 'feature771': 581, 'feature739': 582, 'feature57': 583, 'feature513': 584, 'feature818': 585, 'feature960': 586, 'feature528': 587, 'feature963': 588, 'feature901': 589, 'feature873': 590, 'feature373': 591, 'feature131': 592, 'feature640': 593, 'feature724': 594, 'feature629': 595, 'feature702': 596, 'feature969': 597, 'feature996': 598, 'feature246': 599, 'feature443': 600, 'feature534': 601, 'feature928': 602, 'feature500': 603, 'feature866': 604, 'feature174': 605, 'feature808': 606, 'feature383': 607, 'feature280': 608, 'feature421': 609, 'feature491': 610, 'feature68': 611, 'feature906': 612, 'feature698': 613, 'feature696': 614, 'feature364': 615, 'feature870': 616, 'feature479': 617, 'feature461': 618, 'feature526': 619, 'feature976': 620, 'feature962': 621, 'feature189': 622, 'feature165': 623, 'feature2': 624, 'feature683': 625, 'feature609': 626, 'feature733': 627, 'feature612': 628, 'feature265': 629, 'feature570': 630, 'feature618': 631, 'feature146': 632, 'feature601': 633, 'feature315': 634, 'feature190': 635, 'feature3': 636, 'feature886': 637, 'feature164': 638, 'feature547': 639, 'feature736': 640, 'feature241': 641, 'feature45': 642, 'feature435': 643, 'feature70': 644, 'feature766': 645, 'feature289': 646, 'feature395': 647, 'feature797': 648, 'feature585': 649, 'feature216': 650, 'feature824': 651, 'feature589': 652, 'feature35': 653, 'feature468': 654, 'feature667': 655, 'feature699': 656, 'feature463': 657, 'feature46': 658, 'feature546': 659, 'feature358': 660, 'feature206': 661, 'feature469': 662, 'feature311': 663, 'feature970': 664, 'feature162': 665, 'feature983': 666, 'feature795': 667, 'feature439': 668, 'feature10': 669, 'feature49': 670, 'feature51': 671, 'feature631': 672, 'feature904': 673, 'feature582': 674, 'feature864': 675, 'feature974': 676, 'feature275': 677, 'feature481': 678, 'feature330': 679, 'feature73': 680, 'feature117': 681, 'feature232': 682, 'feature278': 683, 'feature712': 684, 'feature139': 685, 'feature314': 686, 'feature554': 687, 'feature907': 688, 'feature335': 689, 'feature346': 690, 'feature193': 691, 'feature79': 692, 'feature694': 693, 'feature36': 694, 'feature422': 695, 'feature987': 696, 'feature235': 697, 'feature671': 698, 'feature255': 699, 'feature899': 700, 'feature282': 701, 'feature611': 702, 'feature614': 703, 'feature506': 704, 'feature126': 705, 'feature853': 706, 'feature977': 707, 'feature535': 708, 'feature909': 709, 'feature34': 710, 'feature606': 711, 'feature914': 712, 'feature54': 713, 'feature785': 714, 'feature273': 715, 'feature380': 716, 'feature87': 717, 'feature378': 718, 'feature269': 719, 'feature628': 720, 'feature531': 721, 'feature143': 722, 'feature903': 723, 'feature729': 724, 'feature80': 725, 'feature782': 726, 'feature563': 727, 'feature444': 728, 'feature212': 729, 'feature404': 730, 'feature890': 731, 'feature662': 732, 'feature340': 733, 'feature407': 734, 'feature647': 735, 'feature762': 736, 'feature573': 737, 'feature31': 738, 'feature326': 739, 'feature393': 740, 'feature264': 741, 'feature507': 742, 'feature936': 743, 'feature224': 744, 'feature544': 745, 'feature37': 746, 'feature460': 747, 'feature625': 748, 'feature848': 749, 'feature82': 750, 'feature586': 751, 'feature613': 752, 'feature400': 753, 'feature644': 754, 'feature23': 755, 'feature898': 756, 'feature307': 757, 'feature955': 758, 'feature877': 759, 'feature285': 760, 'feature516': 761, 'feature624': 762, 'feature442': 763, 'feature986': 764, 'feature800': 765, 'feature633': 766, 'feature372': 767, 'feature749': 768, 'feature369': 769, 'feature456': 770, 'feature497': 771, 'feature187': 772, 'feature701': 773, 'feature557': 774, 'feature867': 775, 'feature564': 776, 'feature429': 777, 'feature205': 778, 'feature758': 779, 'feature338': 780, 'feature258': 781, 'feature525': 782, 'feature911': 783, 'feature327': 784, 'feature122': 785, 'feature792': 786, 'feature845': 787, 'feature52': 788, 'feature376': 789, 'feature562': 790, 'feature21': 791, 'feature178': 792, 'feature810': 793, 'feature773': 794, 'feature288': 795, 'feature869': 796, 'feature599': 797, 'feature236': 798, 'feature434': 799, 'feature53': 800, 'feature204': 801, 'feature885': 802, 'feature238': 803, 'feature152': 804, 'feature520': 805, 'feature243': 806, 'feature465': 807, 'feature807': 808, 'feature704': 809, 'feature301': 810, 'feature605': 811, 'feature388': 812, 'feature172': 813, 'feature975': 814, 'feature961': 815, 'feature428': 816, 'feature745': 817, 'feature321': 818, 'feature432': 819, 'feature821': 820, 'feature244': 821, 'feature805': 822, 'feature608': 823, 'feature294': 824, 'feature945': 825, 'feature217': 826, 'feature213': 827, 'feature350': 828, 'feature452': 829, 'feature714': 830, 'feature598': 831, 'feature361': 832, 'feature578': 833, 'feature318': 834, 'feature769': 835, 'feature62': 836, 'feature921': 837, 'feature316': 838, 'feature487': 839, 'feature291': 840, 'feature450': 841, 'feature793': 842, 'feature98': 843, 'feature128': 844, 'feature590': 845, 'feature176': 846, 'feature882': 847, 'feature504': 848, 'feature129': 849, 'feature48': 850, 'feature788': 851, 'feature681': 852, 'feature583': 853, 'feature414': 854, 'feature804': 855, 'feature536': 856, 'feature191': 857, 'feature849': 858, 'feature1': 859, 'feature988': 860, 'feature719': 861, 'feature412': 862, 'feature476': 863, 'feature502': 864, 'feature607': 865, 'feature455': 866, 'feature910': 867, 'feature253': 868, 'feature726': 869, 'feature132': 870, 'feature24': 871, 'feature887': 872, 'feature888': 873, 'feature709': 874, 'feature387': 875, 'feature268': 876, 'feature100': 877, 'feature713': 878, 'feature28': 879, 'feature108': 880, 'feature39': 881, 'feature355': 882, 'feature489': 883, 'feature384': 884, 'feature397': 885, 'feature138': 886, 'feature221': 887, 'feature735': 888, 'feature331': 889, 'feature251': 890, 'feature775': 891, 'feature177': 892, 'feature718': 893, 'feature802': 894, 'feature492': 895, 'feature927': 896, 'feature746': 897, 'feature576': 898, 'feature684': 899, 'feature25': 900, 'feature119': 901, 'feature651': 902, 'feature803': 903, 'feature984': 904, 'feature149': 905, 'feature655': 906, 'feature351': 907, 'feature343': 908, 'feature366': 909, 'feature472': 910, 'feature858': 911, 'feature114': 912, 'feature156': 913, 'feature751': 914, 'feature111': 915, 'feature42': 916, 'feature300': 917, 'feature517': 918, 'feature50': 919, 'feature938': 920, 'feature565': 921, 'feature290': 922, 'feature723': 923, 'feature511': 924, 'feature385': 925, 'feature67': 926, 'feature572': 927, 'feature553': 928, 'feature545': 929, 'feature375': 930, 'feature197': 931, 'feature446': 932, 'feature17': 933, 'feature692': 934, 'feature283': 935, 'feature274': 936, 'feature995': 937, 'feature763': 938, 'feature781': 939, 'feature296': 940, 'feature716': 941, 'feature817': 942, 'feature530': 943, 'feature999': 944, 'feature778': 945, 'feature33': 946, 'feature602': 947, 'feature715': 948, 'feature480': 949, 'feature298': 950, 'feature813': 951, 'feature579': 952, 'feature973': 953, 'feature134': 954, 'feature430': 955, 'feature566': 956, 'feature234': 957, 'feature512': 958, 'feature965': 959, 'feature937': 960, 'feature29': 961, 'feature992': 962, 'feature630': 963, 'feature494': 964, 'feature484': 965, 'feature448': 966, 'feature399': 967, 'feature420': 968, 'feature319': 969, 'feature529': 970, 'feature78': 971, 'feature394': 972, 'feature41': 973, 'feature658': 974, 'feature829': 975, 'feature950': 976, 'feature495': 977, 'feature317': 978, 'feature8': 979, 'feature145': 980, 'feature653': 981, 'feature705': 982, 'feature110': 983, 'feature695': 984, 'feature341': 985, 'feature591': 986, 'feature501': 987, 'feature61': 988, 'feature856': 989, 'feature754': 990, 'feature587': 991, 'feature279': 992, 'feature801': 993, 'feature568': 994, 'feature949': 995, 'feature233': 996, 'feature685': 997, 'feature184': 998, 'feature747': 999}, 'type_B': {'feature151': 0, 'feature208': 1, 'feature636': 2, 'feature813': 3, 'feature655': 4, 'feature764': 5, 'feature478': 6, 'feature364': 7, 'feature487': 8, 'feature679': 9, 'feature923': 10, 'feature893': 11, 'feature784': 12, 'feature575': 13, 'feature95': 14, 'feature157': 15, 'feature116': 16, 'feature453': 17, 'feature975': 18, 'feature869': 19, 'feature648': 20, 'feature129': 21, 'feature100': 22, 'feature533': 23, 'feature924': 24, 'feature365': 25, 'feature637': 26, 'feature766': 27, 'feature289': 28, 'feature731': 29, 'feature369': 30, 'feature189': 31, 'feature744': 32, 'feature623': 33, 'feature836': 34, 'feature909': 35, 'feature978': 36, 'feature181': 37, 'feature982': 38, 'feature770': 39, 'feature522': 40, 'feature71': 41, 'feature430': 42, 'feature729': 43, 'feature622': 44, 'feature844': 45, 'feature714': 46, 'feature360': 47, 'feature791': 48, 'feature34': 49, 'feature781': 50, 'feature142': 51, 'feature432': 52, 'feature807': 53, 'feature779': 54, 'feature77': 55, 'feature827': 56, 'feature213': 57, 'feature563': 58, 'feature772': 59, 'feature751': 60, 'feature883': 61, 'feature329': 62, 'feature436': 63, 'feature203': 64, 'feature87': 65, 'feature106': 66, 'feature875': 67, 'feature704': 68, 'feature243': 69, 'feature635': 70, 'feature272': 71, 'feature672': 72, 'feature89': 73, 'feature120': 74, 'feature540': 75, 'feature512': 76, 'feature280': 77, 'feature11': 78, 'feature91': 79, 'feature740': 80, 'feature967': 81, 'feature549': 82, 'feature319': 83, 'feature288': 84, 'feature86': 85, 'feature112': 86, 'feature294': 87, 'feature990': 88, 'feature565': 89, 'feature712': 90, 'feature804': 91, 'feature817': 92, 'feature778': 93, 'feature899': 94, 'feature169': 95, 'feature541': 96, 'feature254': 97, 'feature959': 98, 'feature93': 99, 'feature427': 100, 'feature652': 101, 'feature698': 102, 'feature101': 103, 'feature970': 104, 'feature656': 105, 'feature299': 106, 'feature618': 107, 'feature931': 108, 'feature110': 109, 'feature314': 110, 'feature987': 111, 'feature758': 112, 'feature737': 113, 'feature630': 114, 'feature743': 115, 'feature521': 116, 'feature927': 117, 'feature501': 118, 'feature506': 119, 'feature600': 120, 'feature843': 121, 'feature692': 122, 'feature953': 123, 'feature916': 124, 'feature346': 125, 'feature24': 126, 'feature407': 127, 'feature414': 128, 'feature727': 129, 'feature156': 130, 'feature413': 131, 'feature451': 132, 'feature25': 133, 'feature104': 134, 'feature97': 135, 'feature444': 136, 'feature454': 137, 'feature301': 138, 'feature830': 139, 'feature964': 140, 'feature873': 141, 'feature259': 142, 'feature13': 143, 'feature752': 144, 'feature595': 145, 'feature940': 146, 'feature423': 147, 'feature105': 148, 'feature502': 149, 'feature403': 150, 'feature881': 151, 'feature1': 152, 'feature234': 153, 'feature896': 154, 'feature753': 155, 'feature986': 156, 'feature70': 157, 'feature345': 158, 'feature747': 159, 'feature173': 160, 'feature680': 161, 'feature383': 162, 'feature158': 163, 'feature260': 164, 'feature613': 165, 'feature973': 166, 'feature111': 167, 'feature867': 168, 'feature828': 169, 'feature811': 170, 'feature885': 171, 'feature148': 172, 'feature422': 173, 'feature711': 174, 'feature468': 175, 'feature543': 176, 'feature671': 177, 'feature224': 178, 'feature594': 179, 'feature834': 180, 'feature388': 181, 'feature745': 182, 'feature160': 183, 'feature227': 184, 'feature574': 185, 'feature198': 186, 'feature54': 187, 'feature503': 188, 'feature559': 189, 'feature320': 190, 'feature725': 191, 'feature257': 192, 'feature664': 193, 'feature417': 194, 'feature842': 195, 'feature354': 196, 'feature610': 197, 'feature674': 198, 'feature971': 199, 'feature149': 200, 'feature494': 201, 'feature910': 202, 'feature908': 203, 'feature550': 204, 'feature749': 205, 'feature926': 206, 'feature212': 207, 'feature479': 208, 'feature863': 209, 'feature124': 210, 'feature327': 211, 'feature686': 212, 'feature471': 213, 'feature235': 214, 'feature409': 215, 'feature264': 216, 'feature822': 217, 'feature404': 218, 'feature210': 219, 'feature426': 220, 'feature241': 221, 'feature754': 222, 'feature67': 223, 'feature989': 224, 'feature900': 225, 'feature527': 226, 'feature570': 227, 'feature703': 228, 'feature85': 229, 'feature338': 230, 'feature406': 231, 'feature492': 232, 'feature969': 233, 'feature800': 234, 'feature535': 235, 'feature619': 236, 'feature15': 237, 'feature818': 238, 'feature475': 239, 'feature334': 240, 'feature868': 241, 'feature581': 242, 'feature829': 243, 'feature330': 244, 'feature134': 245, 'feature733': 246, 'feature246': 247, 'feature669': 248, 'feature441': 249, 'feature141': 250, 'feature792': 251, 'feature261': 252, 'feature164': 253, 'feature670': 254, 'feature115': 255, 'feature735': 256, 'feature876': 257, 'feature997': 258, 'feature580': 259, 'feature943': 260, 'feature279': 261, 'feature376': 262, 'feature185': 263, 'feature171': 264, 'feature611': 265, 'feature174': 266, 'feature858': 267, 'feature742': 268, 'feature82': 269, 'feature701': 270, 'feature586': 271, 'feature233': 272, 'feature785': 273, 'feature218': 274, 'feature597': 275, 'feature353': 276, 'feature270': 277, 'feature621': 278, 'feature96': 279, 'feature824': 280, 'feature48': 281, 'feature614': 282, 'feature295': 283, 'feature275': 284, 'feature517': 285, 'feature920': 286, 'feature245': 287, 'feature603': 288, 'feature312': 289, 'feature919': 290, 'feature352': 291, 'feature452': 292, 'feature431': 293, 'feature484': 294, 'feature726': 295, 'feature469': 296, 'feature513': 297, 'feature78': 298, 'feature855': 299, 'feature17': 300, 'feature125': 301, 'feature700': 302, 'feature375': 303, 'feature906': 304, 'feature161': 305, 'feature790': 306, 'feature400': 307, 'feature147': 308, 'feature46': 309, 'feature482': 310, 'feature359': 311, 'feature944': 312, 'feature624': 313, 'feature992': 314, 'feature798': 315, 'feature526': 316, 'feature209': 317, 'feature870': 318, 'feature576': 319, 'feature64': 320, 'feature823': 321, 'feature938': 322, 'feature706': 323, 'feature579': 324, 'feature415': 325, 'feature192': 326, 'feature370': 327, 'feature571': 328, 'feature891': 329, 'feature750': 330, 'feature448': 331, 'feature555': 332, 'feature99': 333, 'feature647': 334, 'feature872': 335, 'feature894': 336, 'feature629': 337, 'feature808': 338, 'feature793': 339, 'feature491': 340, 'feature496': 341, 'feature326': 342, 'feature952': 343, 'feature335': 344, 'feature892': 345, 'feature390': 346, 'feature572': 347, 'feature258': 348, 'feature371': 349, 'feature516': 350, 'feature472': 351, 'feature31': 352, 'feature421': 353, 'feature739': 354, 'feature138': 355, 'feature433': 356, 'feature761': 357, 'feature561': 358, 'feature620': 359, 'feature350': 360, 'feature337': 361, 'feature290': 362, 'feature642': 363, 'feature72': 364, 'feature188': 365, 'feature63': 366, 'feature759': 367, 'feature860': 368, 'feature56': 369, 'feature146': 370, 'feature957': 371, 'feature283': 372, 'feature139': 373, 'feature44': 374, 'feature901': 375, 'feature136': 376, 'feature310': 377, 'feature45': 378, 'feature380': 379, 'feature995': 380, 'feature179': 381, 'feature377': 382, 'feature728': 383, 'feature199': 384, 'feature172': 385, 'feature230': 386, 'feature52': 387, 'feature216': 388, 'feature300': 389, 'feature33': 390, 'feature782': 391, 'feature928': 392, 'feature819': 393, 'feature180': 394, 'feature32': 395, 'feature144': 396, 'feature865': 397, 'feature499': 398, 'feature201': 399, 'feature271': 400, 'feature682': 401, 'feature646': 402, 'feature23': 403, 'feature465': 404, 'feature884': 405, 'feature231': 406, 'feature477': 407, 'feature835': 408, 'feature331': 409, 'feature696': 410, 'feature723': 411, 'feature709': 412, 'feature511': 413, 'feature932': 414, 'feature771': 415, 'feature98': 416, 'feature278': 417, 'feature925': 418, 'feature474': 419, 'feature53': 420, 'feature730': 421, 'feature457': 422, 'feature641': 423, 'feature905': 424, 'feature382': 425, 'feature205': 426, 'feature821': 427, 'feature405': 428, 'feature434': 429, 'feature775': 430, 'feature113': 431, 'feature949': 432, 'feature428': 433, 'feature302': 434, 'feature520': 435, 'feature695': 436, 'feature530': 437, 'feature654': 438, 'feature281': 439, 'feature505': 440, 'feature568': 441, 'feature131': 442, 'feature252': 443, 'feature638': 444, 'feature917': 445, 'feature66': 446, 'feature497': 447, 'feature263': 448, 'feature515': 449, 'feature308': 450, 'feature871': 451, 'feature332': 452, 'feature716': 453, 'feature786': 454, 'feature833': 455, 'feature30': 456, 'feature590': 457, 'feature250': 458, 'feature244': 459, 'feature498': 460, 'feature587': 461, 'feature379': 462, 'feature802': 463, 'feature950': 464, 'feature36': 465, 'feature49': 466, 'feature939': 467, 'feature84': 468, 'feature47': 469, 'feature391': 470, 'feature879': 471, 'feature43': 472, 'feature282': 473, 'feature402': 474, 'feature35': 475, 'feature947': 476, 'feature40': 477, 'feature460': 478, 'feature644': 479, 'feature186': 480, 'feature107': 481, 'feature852': 482, 'feature788': 483, 'feature699': 484, 'feature268': 485, 'feature841': 486, 'feature553': 487, 'feature73': 488, 'feature195': 489, 'feature57': 490, 'feature459': 491, 'feature911': 492, 'feature488': 493, 'feature455': 494, 'feature985': 495, 'feature814': 496, 'feature207': 497, 'feature887': 498, 'feature941': 499, 'feature996': 500, 'feature676': 501, 'feature991': 502, 'feature693': 503, 'feature528': 504, 'feature476': 505, 'feature342': 506, 'feature276': 507, 'feature249': 508, 'feature980': 509, 'feature153': 510, 'feature890': 511, 'feature763': 512, 'feature816': 513, 'feature220': 514, 'feature658': 515, 'feature558': 516, 'feature88': 517, 'feature102': 518, 'feature242': 519, 'feature776': 520, 'feature39': 521, 'feature65': 522, 'feature631': 523, 'feature551': 524, 'feature649': 525, 'feature265': 526, 'feature387': 527, 'feature473': 528, 'feature51': 529, 'feature424': 530, 'feature560': 531, 'feature605': 532, 'feature678': 533, 'feature200': 534, 'feature489': 535, 'feature974': 536, 'feature240': 537, 'feature456': 538, 'feature202': 539, 'feature849': 540, 'feature601': 541, 'feature466': 542, 'feature851': 543, 'feature738': 544, 'feature325': 545, 'feature485': 546, 'feature625': 547, 'feature303': 548, 'feature27': 549, 'feature311': 550, 'feature168': 551, 'feature152': 552, 'feature419': 553, 'feature826': 554, 'feature797': 555, 'feature109': 556, 'feature960': 557, 'feature126': 558, 'feature979': 559, 'feature493': 560, 'feature5': 561, 'feature667': 562, 'feature135': 563, 'feature633': 564, 'feature999': 565, 'feature50': 566, 'feature59': 567, 'feature536': 568, 'feature661': 569, 'feature267': 570, 'feature877': 571, 'feature69': 572, 'feature809': 573, 'feature182': 574, 'feature593': 575, 'feature734': 576, 'feature677': 577, 'feature396': 578, 'feature948': 579, 'feature133': 580, 'feature323': 581, 'feature838': 582, 'feature118': 583, 'feature930': 584, 'feature145': 585, 'feature357': 586, 'feature895': 587, 'feature37': 588, 'feature381': 589, 'feature397': 590, 'feature968': 591, 'feature398': 592, 'feature617': 593, 'feature650': 594, 'feature787': 595, 'feature0': 596, 'feature866': 597, 'feature673': 598, 'feature736': 599, 'feature121': 600, 'feature343': 601, 'feature662': 602, 'feature856': 603, 'feature309': 604, 'feature495': 605, 'feature362': 606, 'feature92': 607, 'feature685': 608, 'feature596': 609, 'feature537': 610, 'feature74': 611, 'feature237': 612, 'feature162': 613, 'feature273': 614, 'feature878': 615, 'feature683': 616, 'feature724': 617, 'feature94': 618, 'feature768': 619, 'feature554': 620, 'feature445': 621, 'feature762': 622, 'feature361': 623, 'feature442': 624, 'feature840': 625, 'feature438': 626, 'feature547': 627, 'feature80': 628, 'feature385': 629, 'feature898': 630, 'feature722': 631, 'feature684': 632, 'feature616': 633, 'feature3': 634, 'feature598': 635, 'feature458': 636, 'feature532': 637, 'feature463': 638, 'feature470': 639, 'feature358': 640, 'feature2': 641, 'feature277': 642, 'feature108': 643, 'feature175': 644, 'feature612': 645, 'feature211': 646, 'feature721': 647, 'feature857': 648, 'feature143': 649, 'feature757': 650, 'feature296': 651, 'feature955': 652, 'feature765': 653, 'feature159': 654, 'feature861': 655, 'feature643': 656, 'feature583': 657, 'feature429': 658, 'feature777': 659, 'feature490': 660, 'feature286': 661, 'feature888': 662, 'feature324': 663, 'feature38': 664, 'feature760': 665, 'feature534': 666, 'feature965': 667, 'feature262': 668, 'feature962': 669, 'feature607': 670, 'feature903': 671, 'feature150': 672, 'feature562': 673, 'feature384': 674, 'feature221': 675, 'feature190': 676, 'feature500': 677, 'feature298': 678, 'feature287': 679, 'feature961': 680, 'feature966': 681, 'feature815': 682, 'feature238': 683, 'feature832': 684, 'feature60': 685, 'feature902': 686, 'feature6': 687, 'feature825': 688, 'feature16': 689, 'feature79': 690, 'feature977': 691, 'feature518': 692, 'feature255': 693, 'feature904': 694, 'feature14': 695, 'feature993': 696, 'feature912': 697, 'feature934': 698, 'feature440': 699, 'feature976': 700, 'feature942': 701, 'feature720': 702, 'feature582': 703, 'feature702': 704, 'feature588': 705, 'feature341': 706, 'feature321': 707, 'feature663': 708, 'feature694': 709, 'feature935': 710, 'feature378': 711, 'feature373': 712, 'feature22': 713, 'feature75': 714, 'feature839': 715, 'feature864': 716, 'feature215': 717, 'feature994': 718, 'feature599': 719, 'feature392': 720, 'feature464': 721, 'feature936': 722, 'feature697': 723, 'feature340': 724, 'feature604': 725, 'feature632': 726, 'feature355': 727, 'feature984': 728, 'feature130': 729, 'feature62': 730, 'feature222': 731, 'feature297': 732, 'feature83': 733, 'feature374': 734, 'feature163': 735, 'feature666': 736, 'feature285': 737, 'feature915': 738, 'feature691': 739, 'feature972': 740, 'feature119': 741, 'feature347': 742, 'feature443': 743, 'feature170': 744, 'feature922': 745, 'feature269': 746, 'feature690': 747, 'feature366': 748, 'feature741': 749, 'feature831': 750, 'feature127': 751, 'feature717': 752, 'feature569': 753, 'feature411': 754, 'feature467': 755, 'feature862': 756, 'feature61': 757, 'feature248': 758, 'feature507': 759, 'feature854': 760, 'feature29': 761, 'feature524': 762, 'feature801': 763, 'feature483': 764, 'feature566': 765, 'feature556': 766, 'feature897': 767, 'feature853': 768, 'feature983': 769, 'feature103': 770, 'feature55': 771, 'feature609': 772, 'feature304': 773, 'feature519': 774, 'feature206': 775, 'feature8': 776, 'feature253': 777, 'feature348': 778, 'feature688': 779, 'feature420': 780, 'feature748': 781, 'feature564': 782, 'feature313': 783, 'feature687': 784, 'feature653': 785, 'feature307': 786, 'feature538': 787, 'feature232': 788, 'feature21': 789, 'feature665': 790, 'feature368': 791, 'feature410': 792, 'feature937': 793, 'feature705': 794, 'feature394': 795, 'feature418': 796, 'feature447': 797, 'feature951': 798, 'feature715': 799, 'feature9': 800, 'feature90': 801, 'feature783': 802, 'feature767': 803, 'feature184': 804, 'feature803': 805, 'feature178': 806, 'feature317': 807, 'feature799': 808, 'feature880': 809, 'feature820': 810, 'feature480': 811, 'feature462': 812, 'feature247': 813, 'feature812': 814, 'feature789': 815, 'feature514': 816, 'feature363': 817, 'feature229': 818, 'feature154': 819, 'feature769': 820, 'feature882': 821, 'feature628': 822, 'feature450': 823, 'feature214': 824, 'feature42': 825, 'feature746': 826, 'feature137': 827, 'feature292': 828, 'feature933': 829, 'feature356': 830, 'feature486': 831, 'feature114': 832, 'feature167': 833, 'feature128': 834, 'feature228': 835, 'feature204': 836, 'feature708': 837, 'feature399': 838, 'feature20': 839, 'feature886': 840, 'feature626': 841, 'feature567': 842, 'feature336': 843, 'feature76': 844, 'feature7': 845, 'feature578': 846, 'feature401': 847, 'feature689': 848, 'feature68': 849, 'feature197': 850, 'feature592': 851, 'feature542': 852, 'feature19': 853, 'feature954': 854, 'feature732': 855, 'feature217': 856, 'feature425': 857, 'feature339': 858, 'feature606': 859, 'feature58': 860, 'feature525': 861, 'feature958': 862, 'feature155': 863, 'feature874': 864, 'feature640': 865, 'feature226': 866, 'feature372': 867, 'feature349': 868, 'feature573': 869, 'feature659': 870, 'feature117': 871, 'feature12': 872, 'feature956': 873, 'feature315': 874, 'feature615': 875, 'feature132': 876, 'feature523': 877, 'feature546': 878, 'feature584': 879, 'feature408': 880, 'feature539': 881, 'feature166': 882, 'feature845': 883, 'feature306': 884, 'feature41': 885, 'feature796': 886, 'feature810': 887, 'feature585': 888, 'feature225': 889, 'feature293': 890, 'feature140': 891, 'feature577': 892, 'feature449': 893, 'feature123': 894, 'feature907': 895, 'feature773': 896, 'feature557': 897, 'feature333': 898, 'feature284': 899, 'feature461': 900, 'feature28': 901, 'feature10': 902, 'feature191': 903, 'feature196': 904, 'feature719': 905, 'feature183': 906, 'feature710': 907, 'feature713': 908, 'feature639': 909, 'feature634': 910, 'feature945': 911, 'feature859': 912, 'feature344': 913, 'feature981': 914, 'feature236': 915, 'feature531': 916, 'feature963': 917, 'feature795': 918, 'feature552': 919, 'feature794': 920, 'feature504': 921, 'feature122': 922, 'feature389': 923, 'feature998': 924, 'feature675': 925, 'feature805': 926, 'feature780': 927, 'feature589': 928, 'feature439': 929, 'feature386': 930, 'feature608': 931, 'feature223': 932, 'feature850': 933, 'feature437': 934, 'feature367': 935, 'feature645': 936, 'feature435': 937, 'feature351': 938, 'feature510': 939, 'feature660': 940, 'feature251': 941, 'feature274': 942, 'feature774': 943, 'feature176': 944, 'feature322': 945, 'feature305': 946, 'feature988': 947, 'feature395': 948, 'feature318': 949, 'feature806': 950, 'feature177': 951, 'feature837': 952, 'feature18': 953, 'feature266': 954, 'feature651': 955, 'feature219': 956, 'feature416': 957, 'feature889': 958, 'feature681': 959, 'feature914': 960, 'feature602': 961, 'feature193': 962, 'feature4': 963, 'feature328': 964, 'feature718': 965, 'feature508': 966, 'feature291': 967, 'feature913': 968, 'feature921': 969, 'feature239': 970, 'feature591': 971, 'feature846': 972, 'feature194': 973, 'feature256': 974, 'feature481': 975, 'feature929': 976, 'feature529': 977, 'feature187': 978, 'feature548': 979, 'feature657': 980, 'feature755': 981, 'feature627': 982, 'feature412': 983, 'feature946': 984, 'feature848': 985, 'feature668': 986, 'feature81': 987, 'feature446': 988, 'feature393': 989, 'feature918': 990, 'feature316': 991, 'feature707': 992, 'feature847': 993, 'feature756': 994, 'feature544': 995, 'feature26': 996, 'feature509': 997, 'feature545': 998, 'feature165': 999}, 'type_C': {'feature316': 0, 'feature304': 1, 'feature708': 2, 'feature51': 3, 'feature466': 4, 'feature575': 5, 'feature969': 6, 'feature336': 7, 'feature916': 8, 'feature782': 9, 'feature486': 10, 'feature238': 11, 'feature685': 12, 'feature728': 13, 'feature213': 14, 'feature688': 15, 'feature919': 16, 'feature278': 17, 'feature562': 18, 'feature3': 19, 'feature375': 20, 'feature174': 21, 'feature987': 22, 'feature145': 23, 'feature469': 24, 'feature259': 25, 'feature322': 26, 'feature589': 27, 'feature127': 28, 'feature786': 29, 'feature74': 30, 'feature859': 31, 'feature554': 32, 'feature522': 33, 'feature908': 34, 'feature225': 35, 'feature249': 36, 'feature423': 37, 'feature424': 38, 'feature102': 39, 'feature325': 40, 'feature778': 41, 'feature62': 42, 'feature113': 43, 'feature788': 44, 'feature602': 45, 'feature182': 46, 'feature707': 47, 'feature545': 48, 'feature737': 49, 'feature964': 50, 'feature28': 51, 'feature940': 52, 'feature583': 53, 'feature354': 54, 'feature553': 55, 'feature187': 56, 'feature109': 57, 'feature626': 58, 'feature848': 59, 'feature46': 60, 'feature351': 61, 'feature514': 62, 'feature39': 63, 'feature56': 64, 'feature460': 65, 'feature321': 66, 'feature434': 67, 'feature124': 68, 'feature894': 69, 'feature985': 70, 'feature558': 71, 'feature814': 72, 'feature410': 73, 'feature99': 74, 'feature744': 75, 'feature793': 76, 'feature552': 77, 'feature167': 78, 'feature160': 79, 'feature792': 80, 'feature4': 81, 'feature743': 82, 'feature630': 83, 'feature175': 84, 'feature649': 85, 'feature734': 86, 'feature203': 87, 'feature760': 88, 'feature317': 89, 'feature555': 90, 'feature917': 91, 'feature59': 92, 'feature294': 93, 'feature713': 94, 'feature503': 95, 'feature89': 96, 'feature648': 97, 'feature48': 98, 'feature26': 99, 'feature865': 100, 'feature567': 101, 'feature812': 102, 'feature400': 103, 'feature122': 104, 'feature843': 105, 'feature326': 106, 'feature301': 107, 'feature312': 108, 'feature566': 109, 'feature810': 110, 'feature797': 111, 'feature574': 112, 'feature186': 113, 'feature237': 114, 'feature373': 115, 'feature826': 116, 'feature275': 117, 'feature726': 118, 'feature340': 119, 'feature214': 120, 'feature776': 121, 'feature144': 122, 'feature967': 123, 'feature495': 124, 'feature60': 125, 'feature204': 126, 'feature467': 127, 'feature427': 128, 'feature854': 129, 'feature445': 130, 'feature79': 131, 'feature891': 132, 'feature701': 133, 'feature718': 134, 'feature749': 135, 'feature108': 136, 'feature928': 137, 'feature247': 138, 'feature584': 139, 'feature679': 140, 'feature676': 141, 'feature996': 142, 'feature14': 143, 'feature691': 144, 'feature289': 145, 'feature698': 146, 'feature449': 147, 'feature318': 148, 'feature147': 149, 'feature941': 150, 'feature799': 151, 'feature261': 152, 'feature15': 153, 'feature641': 154, 'feature863': 155, 'feature526': 156, 'feature887': 157, 'feature61': 158, 'feature714': 159, 'feature892': 160, 'feature50': 161, 'feature273': 162, 'feature600': 163, 'feature851': 164, 'feature209': 165, 'feature168': 166, 'feature627': 167, 'feature158': 168, 'feature381': 169, 'feature922': 170, 'feature176': 171, 'feature763': 172, 'feature239': 173, 'feature513': 174, 'feature709': 175, 'feature770': 176, 'feature911': 177, 'feature640': 178, 'feature611': 179, 'feature117': 180, 'feature195': 181, 'feature914': 182, 'feature546': 183, 'feature20': 184, 'feature496': 185, 'feature63': 186, 'feature72': 187, 'feature956': 188, 'feature216': 189, 'feature125': 190, 'feature750': 191, 'feature927': 192, 'feature845': 193, 'feature106': 194, 'feature478': 195, 'feature151': 196, 'feature896': 197, 'feature901': 198, 'feature794': 199, 'feature906': 200, 'feature110': 201, 'feature870': 202, 'feature248': 203, 'feature957': 204, 'feature232': 205, 'feature533': 206, 'feature668': 207, 'feature181': 208, 'feature90': 209, 'feature276': 210, 'feature64': 211, 'feature479': 212, 'feature677': 213, 'feature516': 214, 'feature384': 215, 'feature541': 216, 'feature642': 217, 'feature362': 218, 'feature981': 219, 'feature475': 220, 'feature984': 221, 'feature820': 222, 'feature667': 223, 'feature192': 224, 'feature724': 225, 'feature652': 226, 'feature665': 227, 'feature120': 228, 'feature210': 229, 'feature651': 230, 'feature889': 231, 'feature654': 232, 'feature95': 233, 'feature121': 234, 'feature557': 235, 'feature997': 236, 'feature634': 237, 'feature365': 238, 'feature382': 239, 'feature765': 240, 'feature824': 241, 'feature286': 242, 'feature590': 243, 'feature105': 244, 'feature747': 245, 'feature378': 246, 'feature497': 247, 'feature767': 248, 'feature915': 249, 'feature139': 250, 'feature860': 251, 'feature54': 252, 'feature504': 253, 'feature441': 254, 'feature991': 255, 'feature27': 256, 'feature473': 257, 'feature988': 258, 'feature774': 259, 'feature827': 260, 'feature731': 261, 'feature101': 262, 'feature13': 263, 'feature671': 264, 'feature520': 265, 'feature418': 266, 'feature240': 267, 'feature349': 268, 'feature692': 269, 'feature700': 270, 'feature438': 271, 'feature864': 272, 'feature357': 273, 'feature369': 274, 'feature730': 275, 'feature829': 276, 'feature622': 277, 'feature875': 278, 'feature33': 279, 'feature303': 280, 'feature656': 281, 'feature758': 282, 'feature499': 283, 'feature817': 284, 'feature401': 285, 'feature711': 286, 'feature568': 287, 'feature393': 288, 'feature337': 289, 'feature833': 290, 'feature271': 291, 'feature683': 292, 'feature53': 293, 'feature777': 294, 'feature76': 295, 'feature367': 296, 'feature844': 297, 'feature780': 298, 'feature417': 299, 'feature6': 300, 'feature196': 301, 'feature647': 302, 'feature428': 303, 'feature670': 304, 'feature605': 305, 'feature197': 306, 'feature593': 307, 'feature341': 308, 'feature193': 309, 'feature745': 310, 'feature525': 311, 'feature65': 312, 'feature994': 313, 'feature338': 314, 'feature689': 315, 'feature348': 316, 'feature484': 317, 'feature861': 318, 'feature173': 319, 'feature23': 320, 'feature141': 321, 'feature862': 322, 'feature188': 323, 'feature929': 324, 'feature953': 325, 'feature414': 326, 'feature69': 327, 'feature935': 328, 'feature547': 329, 'feature230': 330, 'feature995': 331, 'feature443': 332, 'feature650': 333, 'feature898': 334, 'feature769': 335, 'feature577': 336, 'feature163': 337, 'feature569': 338, 'feature754': 339, 'feature470': 340, 'feature334': 341, 'feature836': 342, 'feature73': 343, 'feature345': 344, 'feature643': 345, 'feature587': 346, 'feature346': 347, 'feature452': 348, 'feature893': 349, 'feature358': 350, 'feature243': 351, 'feature202': 352, 'feature233': 353, 'feature343': 354, 'feature339': 355, 'feature310': 356, 'feature807': 357, 'feature311': 358, 'feature858': 359, 'feature265': 360, 'feature171': 361, 'feature646': 362, 'feature706': 363, 'feature368': 364, 'feature379': 365, 'feature813': 366, 'feature483': 367, 'feature779': 368, 'feature772': 369, 'feature978': 370, 'feature364': 371, 'feature936': 372, 'feature440': 373, 'feature952': 374, 'feature550': 375, 'feature305': 376, 'feature223': 377, 'feature874': 378, 'feature878': 379, 'feature85': 380, 'feature524': 381, 'feature937': 382, 'feature198': 383, 'feature481': 384, 'feature482': 385, 'feature251': 386, 'feature561': 387, 'feature97': 388, 'feature45': 389, 'feature455': 390, 'feature801': 391, 'feature140': 392, 'feature11': 393, 'feature931': 394, 'feature508': 395, 'feature615': 396, 'feature30': 397, 'feature804': 398, 'feature344': 399, 'feature664': 400, 'feature598': 401, 'feature910': 402, 'feature166': 403, 'feature302': 404, 'feature87': 405, 'feature164': 406, 'feature391': 407, 'feature853': 408, 'feature798': 409, 'feature725': 410, 'feature307': 411, 'feature818': 412, 'feature757': 413, 'feature816': 414, 'feature614': 415, 'feature372': 416, 'feature549': 417, 'feature263': 418, 'feature542': 419, 'feature809': 420, 'feature632': 421, 'feature890': 422, 'feature921': 423, 'feature925': 424, 'feature975': 425, 'feature657': 426, 'feature80': 427, 'feature748': 428, 'feature135': 429, 'feature623': 430, 'feature581': 431, 'feature742': 432, 'feature404': 433, 'feature444': 434, 'feature323': 435, 'feature356': 436, 'feature437': 437, 'feature585': 438, 'feature298': 439, 'feature419': 440, 'feature333': 441, 'feature137': 442, 'feature129': 443, 'feature77': 444, 'feature835': 445, 'feature753': 446, 'feature476': 447, 'feature350': 448, 'feature582': 449, 'feature2': 450, 'feature78': 451, 'feature819': 452, 'feature285': 453, 'feature498': 454, 'feature130': 455, 'feature570': 456, 'feature607': 457, 'feature360': 458, 'feature403': 459, 'feature480': 460, 'feature153': 461, 'feature624': 462, 'feature162': 463, 'feature272': 464, 'feature902': 465, 'feature492': 466, 'feature970': 467, 'feature638': 468, 'feature277': 469, 'feature986': 470, 'feature644': 471, 'feature599': 472, 'feature415': 473, 'feature500': 474, 'feature684': 475, 'feature35': 476, 'feature808': 477, 'feature727': 478, 'feature489': 479, 'feature871': 480, 'feature231': 481, 'feature932': 482, 'feature257': 483, 'feature359': 484, 'feature331': 485, 'feature491': 486, 'feature720': 487, 'feature696': 488, 'feature66': 489, 'feature454': 490, 'feature509': 491, 'feature42': 492, 'feature841': 493, 'feature179': 494, 'feature735': 495, 'feature448': 496, 'feature19': 497, 'feature451': 498, 'feature32': 499, 'feature943': 500, 'feature211': 501, 'feature873': 502, 'feature527': 503, 'feature855': 504, 'feature515': 505, 'feature394': 506, 'feature560': 507, 'feature989': 508, 'feature612': 509, 'feature280': 510, 'feature219': 511, 'feature564': 512, 'feature895': 513, 'feature629': 514, 'feature156': 515, 'feature436': 516, 'feature253': 517, 'feature191': 518, 'feature439': 519, 'feature41': 520, 'feature867': 521, 'feature961': 522, 'feature355': 523, 'feature429': 524, 'feature532': 525, 'feature252': 526, 'feature377': 527, 'feature543': 528, 'feature430': 529, 'feature138': 530, 'feature973': 531, 'feature227': 532, 'feature918': 533, 'feature82': 534, 'feature98': 535, 'feature254': 536, 'feature924': 537, 'feature47': 538, 'feature620': 539, 'feature506': 540, 'feature686': 541, 'feature764': 542, 'feature291': 543, 'feature488': 544, 'feature374': 545, 'feature856': 546, 'feature655': 547, 'feature983': 548, 'feature802': 549, 'feature370': 550, 'feature751': 551, 'feature822': 552, 'feature287': 553, 'feature431': 554, 'feature572': 555, 'feature534': 556, 'feature756': 557, 'feature923': 558, 'feature96': 559, 'feature840': 560, 'feature502': 561, 'feature661': 562, 'feature625': 563, 'feature687': 564, 'feature487': 565, 'feature184': 566, 'feature694': 567, 'feature703': 568, 'feature712': 569, 'feature842': 570, 'feature755': 571, 'feature920': 572, 'feature719': 573, 'feature494': 574, 'feature951': 575, 'feature459': 576, 'feature464': 577, 'feature421': 578, 'feature606': 579, 'feature595': 580, 'feature363': 581, 'feature128': 582, 'feature457': 583, 'feature850': 584, 'feature993': 585, 'feature94': 586, 'feature954': 587, 'feature746': 588, 'feature886': 589, 'feature962': 590, 'feature741': 591, 'feature660': 592, 'feature112': 593, 'feature839': 594, 'feature21': 595, 'feature628': 596, 'feature715': 597, 'feature636': 598, 'feature283': 599, 'feature926': 600, 'feature361': 601, 'feature710': 602, 'feature342': 603, 'feature905': 604, 'feature236': 605, 'feature5': 606, 'feature123': 607, 'feature739': 608, 'feature313': 609, 'feature320': 610, 'feature9': 611, 'feature172': 612, 'feature885': 613, 'feature976': 614, 'feature618': 615, 'feature762': 616, 'feature639': 617, 'feature946': 618, 'feature399': 619, 'feature194': 620, 'feature576': 621, 'feature596': 622, 'feature613': 623, 'feature131': 624, 'feature690': 625, 'feature847': 626, 'feature324': 627, 'feature674': 628, 'feature800': 629, 'feature897': 630, 'feature795': 631, 'feature226': 632, 'feature376': 633, 'feature119': 634, 'feature490': 635, 'feature390': 636, 'feature136': 637, 'feature91': 638, 'feature669': 639, 'feature222': 640, 'feature948': 641, 'feature693': 642, 'feature308': 643, 'feature330': 644, 'feature22': 645, 'feature773': 646, 'feature425': 647, 'feature366': 648, 'feature314': 649, 'feature825': 650, 'feature955': 651, 'feature297': 652, 'feature383': 653, 'feature815': 654, 'feature761': 655, 'feature38': 656, 'feature828': 657, 'feature474': 658, 'feature573': 659, 'feature556': 660, 'feature205': 661, 'feature621': 662, 'feature416': 663, 'feature637': 664, 'feature517': 665, 'feature241': 666, 'feature768': 667, 'feature199': 668, 'feature57': 669, 'feature493': 670, 'feature309': 671, 'feature352': 672, 'feature535': 673, 'feature405': 674, 'feature93': 675, 'feature592': 676, 'feature456': 677, 'feature617': 678, 'feature107': 679, 'feature971': 680, 'feature201': 681, 'feature528': 682, 'feature990': 683, 'feature702': 684, 'feature872': 685, 'feature461': 686, 'feature538': 687, 'feature521': 688, 'feature604': 689, 'feature68': 690, 'feature903': 691, 'feature912': 692, 'feature115': 693, 'feature244': 694, 'feature633': 695, 'feature945': 696, 'feature409': 697, 'feature680': 698, 'feature1': 699, 'feature328': 700, 'feature907': 701, 'feature284': 702, 'feature723': 703, 'feature823': 704, 'feature347': 705, 'feature722': 706, 'feature832': 707, 'feature465': 708, 'feature869': 709, 'feature412': 710, 'feature571': 711, 'feature43': 712, 'feature8': 713, 'feature880': 714, 'feature979': 715, 'feature904': 716, 'feature190': 717, 'feature264': 718, 'feature884': 719, 'feature29': 720, 'feature968': 721, 'feature548': 722, 'feature529': 723, 'feature212': 724, 'feature619': 725, 'feature721': 726, 'feature803': 727, 'feature781': 728, 'feature161': 729, 'feature200': 730, 'feature811': 731, 'feature653': 732, 'feature406': 733, 'feature699': 734, 'feature992': 735, 'feature883': 736, 'feature609': 737, 'feature775': 738, 'feature974': 739, 'feature299': 740, 'feature234': 741, 'feature386': 742, 'feature258': 743, 'feature933': 744, 'feature157': 745, 'feature888': 746, 'feature270': 747, 'feature217': 748, 'feature450': 749, 'feature319': 750, 'feature796': 751, 'feature18': 752, 'feature433': 753, 'feature116': 754, 'feature659': 755, 'feature846': 756, 'feature165': 757, 'feature327': 758, 'feature942': 759, 'feature55': 760, 'feature704': 761, 'feature235': 762, 'feature453': 763, 'feature821': 764, 'feature92': 765, 'feature242': 766, 'feature539': 767, 'feature588': 768, 'feature678': 769, 'feature838': 770, 'feature580': 771, 'feature422': 772, 'feature591': 773, 'feature295': 774, 'feature732': 775, 'feature44': 776, 'feature442': 777, 'feature315': 778, 'feature111': 779, 'feature866': 780, 'feature717': 781, 'feature10': 782, 'feature114': 783, 'feature269': 784, 'feature407': 785, 'feature296': 786, 'feature178': 787, 'feature49': 788, 'feature477': 789, 'feature281': 790, 'feature784': 791, 'feature432': 792, 'feature695': 793, 'feature411': 794, 'feature934': 795, 'feature766': 796, 'feature7': 797, 'feature899': 798, 'feature586': 799, 'feature530': 800, 'feature292': 801, 'feature118': 802, 'feature663': 803, 'feature939': 804, 'feature380': 805, 'feature783': 806, 'feature909': 807, 'feature398': 808, 'feature882': 809, 'feature279': 810, 'feature353': 811, 'feature150': 812, 'feature930': 813, 'feature426': 814, 'feature785': 815, 'feature672': 816, 'feature71': 817, 'feature134': 818, 'feature34': 819, 'feature142': 820, 'feature86': 821, 'feature104': 822, 'feature228': 823, 'feature645': 824, 'feature998': 825, 'feature0': 826, 'feature148': 827, 'feature458': 828, 'feature752': 829, 'feature787': 830, 'feature25': 831, 'feature215': 832, 'feature155': 833, 'feature518': 834, 'feature852': 835, 'feature446': 836, 'feature789': 837, 'feature180': 838, 'feature705': 839, 'feature837': 840, 'feature229': 841, 'feature507': 842, 'feature716': 843, 'feature218': 844, 'feature52': 845, 'feature505': 846, 'feature266': 847, 'feature675': 848, 'feature740': 849, 'feature834': 850, 'feature268': 851, 'feature388': 852, 'feature177': 853, 'feature274': 854, 'feature385': 855, 'feature472': 856, 'feature950': 857, 'feature282': 858, 'feature501': 859, 'feature736': 860, 'feature395': 861, 'feature876': 862, 'feature551': 863, 'feature84': 864, 'feature673': 865, 'feature790': 866, 'feature170': 867, 'feature980': 868, 'feature83': 869, 'feature159': 870, 'feature396': 871, 'feature16': 872, 'feature143': 873, 'feature12': 874, 'feature126': 875, 'feature306': 876, 'feature329': 877, 'feature435': 878, 'feature610': 879, 'feature631': 880, 'feature603': 881, 'feature510': 882, 'feature635': 883, 'feature387': 884, 'feature485': 885, 'feature805': 886, 'feature682': 887, 'feature224': 888, 'feature447': 889, 'feature103': 890, 'feature58': 891, 'feature335': 892, 'feature221': 893, 'feature597': 894, 'feature616': 895, 'feature977': 896, 'feature81': 897, 'feature944': 898, 'feature154': 899, 'feature169': 900, 'feature681': 901, 'feature913': 902, 'feature536': 903, 'feature246': 904, 'feature791': 905, 'feature132': 906, 'feature960': 907, 'feature389': 908, 'feature666': 909, 'feature658': 910, 'feature332': 911, 'feature578': 912, 'feature468': 913, 'feature88': 914, 'feature879': 915, 'feature206': 916, 'feature972': 917, 'feature152': 918, 'feature413': 919, 'feature293': 920, 'feature260': 921, 'feature959': 922, 'feature183': 923, 'feature290': 924, 'feature24': 925, 'feature900': 926, 'feature392': 927, 'feature70': 928, 'feature36': 929, 'feature982': 930, 'feature371': 931, 'feature830': 932, 'feature100': 933, 'feature31': 934, 'feature759': 935, 'feature255': 936, 'feature189': 937, 'feature729': 938, 'feature511': 939, 'feature881': 940, 'feature697': 941, 'feature250': 942, 'feature185': 943, 'feature563': 944, 'feature738': 945, 'feature963': 946, 'feature207': 947, 'feature733': 948, 'feature868': 949, 'feature397': 950, 'feature471': 951, 'feature958': 952, 'feature300': 953, 'feature408': 954, 'feature17': 955, 'feature208': 956, 'feature540': 957, 'feature849': 958, 'feature267': 959, 'feature938': 960, 'feature608': 961, 'feature420': 962, 'feature40': 963, 'feature965': 964, 'feature133': 965, 'feature999': 966, 'feature531': 967, 'feature565': 968, 'feature966': 969, 'feature462': 970, 'feature857': 971, 'feature559': 972, 'feature771': 973, 'feature402': 974, 'feature512': 975, 'feature463': 976, 'feature544': 977, 'feature256': 978, 'feature947': 979, 'feature37': 980, 'feature75': 981, 'feature220': 982, 'feature288': 983, 'feature523': 984, 'feature601': 985, 'feature67': 986, 'feature519': 987, 'feature537': 988, 'feature149': 989, 'feature262': 990, 'feature877': 991, 'feature831': 992, 'feature806': 993, 'feature245': 994, 'feature579': 995, 'feature662': 996, 'feature949': 997, 'feature594': 998, 'feature146': 999}, 'type_D': {'feature149': 0, 'feature401': 1, 'feature991': 2, 'feature371': 3, 'feature211': 4, 'feature95': 5, 'feature49': 6, 'feature423': 7, 'feature600': 8, 'feature599': 9, 'feature751': 10, 'feature114': 11, 'feature733': 12, 'feature755': 13, 'feature983': 14, 'feature577': 15, 'feature74': 16, 'feature726': 17, 'feature72': 18, 'feature158': 19, 'feature51': 20, 'feature979': 21, 'feature188': 22, 'feature234': 23, 'feature598': 24, 'feature938': 25, 'feature963': 26, 'feature694': 27, 'feature881': 28, 'feature495': 29, 'feature305': 30, 'feature52': 31, 'feature807': 32, 'feature520': 33, 'feature653': 34, 'feature173': 35, 'feature784': 36, 'feature529': 37, 'feature59': 38, 'feature618': 39, 'feature658': 40, 'feature907': 41, 'feature45': 42, 'feature120': 43, 'feature650': 44, 'feature255': 45, 'feature508': 46, 'feature313': 47, 'feature842': 48, 'feature152': 49, 'feature886': 50, 'feature518': 51, 'feature893': 52, 'feature378': 53, 'feature737': 54, 'feature536': 55, 'feature348': 56, 'feature722': 57, 'feature403': 58, 'feature695': 59, 'feature179': 60, 'feature419': 61, 'feature127': 62, 'feature730': 63, 'feature411': 64, 'feature494': 65, 'feature523': 66, 'feature627': 67, 'feature428': 68, 'feature713': 69, 'feature500': 70, 'feature908': 71, 'feature296': 72, 'feature278': 73, 'feature172': 74, 'feature260': 75, 'feature909': 76, 'feature422': 77, 'feature478': 78, 'feature538': 79, 'feature765': 80, 'feature281': 81, 'feature143': 82, 'feature712': 83, 'feature817': 84, 'feature356': 85, 'feature759': 86, 'feature417': 87, 'feature699': 88, 'feature333': 89, 'feature303': 90, 'feature71': 91, 'feature543': 92, 'feature227': 93, 'feature228': 94, 'feature615': 95, 'feature561': 96, 'feature393': 97, 'feature723': 98, 'feature48': 99, 'feature54': 100, 'feature402': 101, 'feature763': 102, 'feature781': 103, 'feature940': 104, 'feature671': 105, 'feature277': 106, 'feature207': 107, 'feature135': 108, 'feature463': 109, 'feature992': 110, 'feature607': 111, 'feature85': 112, 'feature293': 113, 'feature343': 114, 'feature621': 115, 'feature649': 116, 'feature340': 117, 'feature101': 118, 'feature710': 119, 'feature329': 120, 'feature580': 121, 'feature427': 122, 'feature219': 123, 'feature372': 124, 'feature942': 125, 'feature44': 126, 'feature397': 127, 'feature601': 128, 'feature137': 129, 'feature247': 130, 'feature788': 131, 'feature944': 132, 'feature762': 133, 'feature323': 134, 'feature587': 135, 'feature570': 136, 'feature322': 137, 'feature743': 138, 'feature111': 139, 'feature669': 140, 'feature439': 141, 'feature31': 142, 'feature62': 143, 'feature326': 144, 'feature720': 145, 'feature273': 146, 'feature593': 147, 'feature488': 148, 'feature708': 149, 'feature306': 150, 'feature659': 151, 'feature233': 152, 'feature982': 153, 'feature112': 154, 'feature917': 155, 'feature585': 156, 'feature715': 157, 'feature897': 158, 'feature872': 159, 'feature545': 160, 'feature155': 161, 'feature858': 162, 'feature852': 163, 'feature443': 164, 'feature704': 165, 'feature29': 166, 'feature640': 167, 'feature241': 168, 'feature682': 169, 'feature140': 170, 'feature786': 171, 'feature491': 172, 'feature746': 173, 'feature124': 174, 'feature513': 175, 'feature811': 176, 'feature707': 177, 'feature573': 178, 'feature989': 179, 'feature548': 180, 'feature169': 181, 'feature644': 182, 'feature953': 183, 'feature280': 184, 'feature721': 185, 'feature138': 186, 'feature66': 187, 'feature866': 188, 'feature804': 189, 'feature225': 190, 'feature373': 191, 'feature684': 192, 'feature347': 193, 'feature455': 194, 'feature595': 195, 'feature824': 196, 'feature421': 197, 'feature919': 198, 'feature151': 199, 'feature25': 200, 'feature82': 201, 'feature490': 202, 'feature194': 203, 'feature339': 204, 'feature773': 205, 'feature441': 206, 'feature547': 207, 'feature591': 208, 'feature92': 209, 'feature377': 210, 'feature702': 211, 'feature410': 212, 'feature451': 213, 'feature105': 214, 'feature868': 215, 'feature161': 216, 'feature420': 217, 'feature532': 218, 'feature809': 219, 'feature416': 220, 'feature337': 221, 'feature210': 222, 'feature290': 223, 'feature877': 224, 'feature794': 225, 'feature620': 226, 'feature970': 227, 'feature531': 228, 'feature688': 229, 'feature847': 230, 'feature197': 231, 'feature185': 232, 'feature175': 233, 'feature195': 234, 'feature110': 235, 'feature156': 236, 'feature307': 237, 'feature283': 238, 'feature894': 239, 'feature239': 240, 'feature251': 241, 'feature242': 242, 'feature883': 243, 'feature13': 244, 'feature6': 245, 'feature608': 246, 'feature28': 247, 'feature550': 248, 'feature594': 249, 'feature362': 250, 'feature683': 251, 'feature954': 252, 'feature960': 253, 'feature47': 254, 'feature406': 255, 'feature341': 256, 'feature38': 257, 'feature374': 258, 'feature321': 259, 'feature497': 260, 'feature821': 261, 'feature96': 262, 'feature182': 263, 'feature301': 264, 'feature91': 265, 'feature553': 266, 'feature87': 267, 'feature966': 268, 'feature483': 269, 'feature171': 270, 'feature479': 271, 'feature160': 272, 'feature14': 273, 'feature27': 274, 'feature656': 275, 'feature16': 276, 'feature841': 277, 'feature102': 278, 'feature692': 279, 'feature465': 280, 'feature42': 281, 'feature638': 282, 'feature986': 283, 'feature157': 284, 'feature147': 285, 'feature569': 286, 'feature554': 287, 'feature212': 288, 'feature431': 289, 'feature504': 290, 'feature926': 291, 'feature5': 292, 'feature23': 293, 'feature849': 294, 'feature753': 295, 'feature962': 296, 'feature957': 297, 'feature511': 298, 'feature221': 299, 'feature191': 300, 'feature148': 301, 'feature375': 302, 'feature3': 303, 'feature222': 304, 'feature895': 305, 'feature61': 306, 'feature367': 307, 'feature466': 308, 'feature286': 309, 'feature325': 310, 'feature357': 311, 'feature785': 312, 'feature269': 313, 'feature287': 314, 'feature128': 315, 'feature470': 316, 'feature869': 317, 'feature460': 318, 'feature782': 319, 'feature238': 320, 'feature381': 321, 'feature496': 322, 'feature501': 323, 'feature878': 324, 'feature915': 325, 'feature628': 326, 'feature352': 327, 'feature775': 328, 'feature363': 329, 'feature958': 330, 'feature912': 331, 'feature69': 332, 'feature815': 333, 'feature589': 334, 'feature772': 335, 'feature67': 336, 'feature130': 337, 'feature997': 338, 'feature475': 339, 'feature888': 340, 'feature534': 341, 'feature779': 342, 'feature800': 343, 'feature503': 344, 'feature7': 345, 'feature432': 346, 'feature481': 347, 'feature139': 348, 'feature687': 349, 'feature874': 350, 'feature655': 351, 'feature637': 352, 'feature414': 353, 'feature885': 354, 'feature899': 355, 'feature635': 356, 'feature559': 357, 'feature297': 358, 'feature567': 359, 'feature351': 360, 'feature791': 361, 'feature654': 362, 'feature365': 363, 'feature387': 364, 'feature20': 365, 'feature832': 366, 'feature436': 367, 'feature952': 368, 'feature430': 369, 'feature359': 370, 'feature485': 371, 'feature19': 372, 'feature1': 373, 'feature235': 374, 'feature864': 375, 'feature709': 376, 'feature605': 377, 'feature766': 378, 'feature914': 379, 'feature484': 380, 'feature666': 381, 'feature330': 382, 'feature616': 383, 'feature670': 384, 'feature509': 385, 'feature825': 386, 'feature928': 387, 'feature113': 388, 'feature996': 389, 'feature827': 390, 'feature527': 391, 'feature361': 392, 'feature122': 393, 'feature133': 394, 'feature106': 395, 'feature482': 396, 'feature383': 397, 'feature215': 398, 'feature918': 399, 'feature129': 400, 'feature46': 401, 'feature836': 402, 'feature344': 403, 'feature477': 404, 'feature839': 405, 'feature972': 406, 'feature925': 407, 'feature902': 408, 'feature530': 409, 'feature229': 410, 'feature17': 411, 'feature244': 412, 'feature78': 413, 'feature642': 414, 'feature557': 415, 'feature939': 416, 'feature370': 417, 'feature408': 418, 'feature315': 419, 'feature716': 420, 'feature11': 421, 'feature166': 422, 'feature579': 423, 'feature700': 424, 'feature349': 425, 'feature959': 426, 'feature830': 427, 'feature929': 428, 'feature838': 429, 'feature34': 430, 'feature223': 431, 'feature544': 432, 'feature820': 433, 'feature2': 434, 'feature93': 435, 'feature267': 436, 'feature526': 437, 'feature405': 438, 'feature771': 439, 'feature563': 440, 'feature294': 441, 'feature445': 442, 'feature693': 443, 'feature768': 444, 'feature873': 445, 'feature379': 446, 'feature189': 447, 'feature932': 448, 'feature237': 449, 'feature180': 450, 'feature196': 451, 'feature783': 452, 'feature648': 453, 'feature261': 454, 'feature977': 455, 'feature633': 456, 'feature778': 457, 'feature636': 458, 'feature389': 459, 'feature318': 460, 'feature209': 461, 'feature115': 462, 'feature39': 463, 'feature512': 464, 'feature240': 465, 'feature446': 466, 'feature974': 467, 'feature750': 468, 'feature208': 469, 'feature81': 470, 'feature705': 471, 'feature492': 472, 'feature98': 473, 'feature661': 474, 'feature739': 475, 'feature345': 476, 'feature930': 477, 'feature97': 478, 'feature631': 479, 'feature850': 480, 'feature903': 481, 'feature822': 482, 'feature572': 483, 'feature327': 484, 'feature226': 485, 'feature429': 486, 'feature910': 487, 'feature142': 488, 'feature279': 489, 'feature141': 490, 'feature32': 491, 'feature131': 492, 'feature770': 493, 'feature292': 494, 'feature136': 495, 'feature890': 496, 'feature681': 497, 'feature660': 498, 'feature486': 499, 'feature862': 500, 'feature896': 501, 'feature968': 502, 'feature317': 503, 'feature556': 504, 'feature736': 505, 'feature243': 506, 'feature769': 507, 'feature831': 508, 'feature126': 509, 'feature806': 510, 'feature58': 511, 'feature201': 512, 'feature643': 513, 'feature282': 514, 'feature639': 515, 'feature338': 516, 'feature965': 517, 'feature823': 518, 'feature259': 519, 'feature472': 520, 'feature257': 521, 'feature745': 522, 'feature935': 523, 'feature558': 524, 'feature276': 525, 'feature754': 526, 'feature79': 527, 'feature941': 528, 'feature89': 529, 'feature271': 530, 'feature369': 531, 'feature634': 532, 'feature588': 533, 'feature549': 534, 'feature629': 535, 'feature887': 536, 'feature657': 537, 'feature857': 538, 'feature264': 539, 'feature426': 540, 'feature995': 541, 'feature891': 542, 'feature732': 543, 'feature245': 544, 'feature246': 545, 'feature502': 546, 'feature312': 547, 'feature125': 548, 'feature471': 549, 'feature937': 550, 'feature192': 551, 'feature469': 552, 'feature612': 553, 'feature203': 554, 'feature437': 555, 'feature853': 556, 'feature879': 557, 'feature731': 558, 'feature353': 559, 'feature993': 560, 'feature985': 561, 'feature742': 562, 'feature364': 563, 'feature987': 564, 'feature943': 565, 'feature442': 566, 'feature524': 567, 'feature780': 568, 'feature493': 569, 'feature976': 570, 'feature165': 571, 'feature571': 572, 'feature216': 573, 'feature725': 574, 'feature104': 575, 'feature489': 576, 'feature844': 577, 'feature456': 578, 'feature685': 579, 'feature741': 580, 'feature75': 581, 'feature949': 582, 'feature467': 583, 'feature574': 584, 'feature729': 585, 'feature740': 586, 'feature818': 587, 'feature828': 588, 'feature738': 589, 'feature119': 590, 'feature645': 591, 'feature176': 592, 'feature454': 593, 'feature144': 594, 'feature88': 595, 'feature861': 596, 'feature412': 597, 'feature626': 598, 'feature50': 599, 'feature706': 600, 'feature718': 601, 'feature295': 602, 'feature464': 603, 'feature613': 604, 'feature395': 605, 'feature248': 606, 'feature797': 607, 'feature388': 608, 'feature425': 609, 'feature796': 610, 'feature813': 611, 'feature537': 612, 'feature459': 613, 'feature964': 614, 'feature803': 615, 'feature819': 616, 'feature99': 617, 'feature933': 618, 'feature83': 619, 'feature285': 620, 'feature55': 621, 'feature181': 622, 'feature870': 623, 'feature84': 624, 'feature10': 625, 'feature309': 626, 'feature450': 627, 'feature592': 628, 'feature535': 629, 'feature358': 630, 'feature641': 631, 'feature314': 632, 'feature168': 633, 'feature747': 634, 'feature564': 635, 'feature604': 636, 'feature541': 637, 'feature507': 638, 'feature630': 639, 'feature921': 640, 'feature576': 641, 'feature584': 642, 'feature975': 643, 'feature170': 644, 'feature498': 645, 'feature26': 646, 'feature434': 647, 'feature53': 648, 'feature552': 649, 'feature311': 650, 'feature263': 651, 'feature758': 652, 'feature551': 653, 'feature289': 654, 'feature94': 655, 'feature560': 656, 'feature461': 657, 'feature665': 658, 'feature711': 659, 'feature835': 660, 'feature950': 661, 'feature624': 662, 'feature546': 663, 'feature689': 664, 'feature308': 665, 'feature187': 666, 'feature900': 667, 'feature447': 668, 'feature275': 669, 'feature65': 670, 'feature198': 671, 'feature735': 672, 'feature602': 673, 'feature609': 674, 'feature581': 675, 'feature107': 676, 'feature837': 677, 'feature56': 678, 'feature611': 679, 'feature528': 680, 'feature15': 681, 'feature284': 682, 'feature320': 683, 'feature116': 684, 'feature355': 685, 'feature856': 686, 'feature132': 687, 'feature204': 688, 'feature990': 689, 'feature231': 690, 'feature998': 691, 'feature623': 692, 'feature905': 693, 'feature632': 694, 'feature299': 695, 'feature103': 696, 'feature368': 697, 'feature764': 698, 'feature691': 699, 'feature829': 700, 'feature749': 701, 'feature834': 702, 'feature118': 703, 'feature843': 704, 'feature376': 705, 'feature385': 706, 'feature774': 707, 'feature859': 708, 'feature183': 709, 'feature33': 710, 'feature100': 711, 'feature647': 712, 'feature272': 713, 'feature596': 714, 'feature505': 715, 'feature270': 716, 'feature625': 717, 'feature473': 718, 'feature86': 719, 'feature334': 720, 'feature610': 721, 'feature164': 722, 'feature230': 723, 'feature206': 724, 'feature799': 725, 'feature672': 726, 'feature63': 727, 'feature76': 728, 'feature268': 729, 'feature382': 730, 'feature217': 731, 'feature673': 732, 'feature346': 733, 'feature12': 734, 'feature453': 735, 'feature342': 736, 'feature793': 737, 'feature540': 738, 'feature335': 739, 'feature354': 740, 'feature880': 741, 'feature304': 742, 'feature517': 743, 'feature159': 744, 'feature840': 745, 'feature565': 746, 'feature174': 747, 'feature9': 748, 'feature43': 749, 'feature515': 750, 'feature409': 751, 'feature662': 752, 'feature424': 753, 'feature978': 754, 'feature167': 755, 'feature262': 756, 'feature449': 757, 'feature30': 758, 'feature386': 759, 'feature60': 760, 'feature865': 761, 'feature153': 762, 'feature109': 763, 'feature163': 764, 'feature256': 765, 'feature487': 766, 'feature444': 767, 'feature667': 768, 'feature510': 769, 'feature846': 770, 'feature904': 771, 'feature328': 772, 'feature812': 773, 'feature690': 774, 'feature871': 775, 'feature619': 776, 'feature391': 777, 'feature582': 778, 'feature714': 779, 'feature575': 780, 'feature258': 781, 'feature70': 782, 'feature555': 783, 'feature232': 784, 'feature617': 785, 'feature253': 786, 'feature310': 787, 'feature854': 788, 'feature923': 789, 'feature146': 790, 'feature698': 791, 'feature734': 792, 'feature776': 793, 'feature789': 794, 'feature254': 795, 'feature752': 796, 'feature927': 797, 'feature980': 798, 'feature0': 799, 'feature651': 800, 'feature922': 801, 'feature777': 802, 'feature756': 803, 'feature121': 804, 'feature390': 805, 'feature73': 806, 'feature291': 807, 'feature802': 808, 'feature748': 809, 'feature200': 810, 'feature186': 811, 'feature946': 812, 'feature438': 813, 'feature761': 814, 'feature969': 815, 'feature994': 816, 'feature882': 817, 'feature855': 818, 'feature220': 819, 'feature867': 820, 'feature860': 821, 'feature760': 822, 'feature468': 823, 'feature213': 824, 'feature384': 825, 'feature350': 826, 'feature614': 827, 'feature80': 828, 'feature399': 829, 'feature597': 830, 'feature68': 831, 'feature458': 832, 'feature767': 833, 'feature833': 834, 'feature249': 835, 'feature117': 836, 'feature675': 837, 'feature41': 838, 'feature845': 839, 'feature955': 840, 'feature265': 841, 'feature981': 842, 'feature808': 843, 'feature4': 844, 'feature816': 845, 'feature462': 846, 'feature380': 847, 'feature606': 848, 'feature583': 849, 'feature435': 850, 'feature956': 851, 'feature947': 852, 'feature674': 853, 'feature884': 854, 'feature875': 855, 'feature814': 856, 'feature696': 857, 'feature719': 858, 'feature724': 859, 'feature134': 860, 'feature533': 861, 'feature77': 862, 'feature288': 863, 'feature37': 864, 'feature202': 865, 'feature8': 866, 'feature901': 867, 'feature876': 868, 'feature418': 869, 'feature448': 870, 'feature331': 871, 'feature499': 872, 'feature108': 873, 'feature676': 874, 'feature516': 875, 'feature476': 876, 'feature218': 877, 'feature973': 878, 'feature578': 879, 'feature906': 880, 'feature519': 881, 'feature319': 882, 'feature18': 883, 'feature798': 884, 'feature913': 885, 'feature936': 886, 'feature190': 887, 'feature590': 888, 'feature177': 889, 'feature924': 890, 'feature298': 891, 'feature150': 892, 'feature787': 893, 'feature727': 894, 'feature911': 895, 'feature193': 896, 'feature664': 897, 'feature236': 898, 'feature967': 899, 'feature792': 900, 'feature851': 901, 'feature679': 902, 'feature366': 903, 'feature300': 904, 'feature801': 905, 'feature162': 906, 'feature892': 907, 'feature686': 908, 'feature90': 909, 'feature663': 910, 'feature123': 911, 'feature971': 912, 'feature145': 913, 'feature951': 914, 'feature40': 915, 'feature452': 916, 'feature21': 917, 'feature404': 918, 'feature64': 919, 'feature521': 920, 'feature562': 921, 'feature396': 922, 'feature332': 923, 'feature984': 924, 'feature646': 925, 'feature717': 926, 'feature522': 927, 'feature324': 928, 'feature757': 929, 'feature805': 930, 'feature440': 931, 'feature826': 932, 'feature506': 933, 'feature154': 934, 'feature407': 935, 'feature677': 936, 'feature701': 937, 'feature863': 938, 'feature934': 939, 'feature474': 940, 'feature302': 941, 'feature252': 942, 'feature514': 943, 'feature398': 944, 'feature603': 945, 'feature36': 946, 'feature542': 947, 'feature316': 948, 'feature360': 949, 'feature24': 950, 'feature224': 951, 'feature810': 952, 'feature744': 953, 'feature728': 954, 'feature586': 955, 'feature652': 956, 'feature525': 957, 'feature205': 958, 'feature539': 959, 'feature400': 960, 'feature961': 961, 'feature931': 962, 'feature394': 963, 'feature178': 964, 'feature790': 965, 'feature622': 966, 'feature266': 967, 'feature945': 968, 'feature336': 969, 'feature795': 970, 'feature703': 971, 'feature413': 972, 'feature668': 973, 'feature433': 974, 'feature948': 975, 'feature480': 976, 'feature568': 977, 'feature680': 978, 'feature999': 979, 'feature920': 980, 'feature214': 981, 'feature566': 982, 'feature415': 983, 'feature848': 984, 'feature392': 985, 'feature678': 986, 'feature898': 987, 'feature35': 988, 'feature889': 989, 'feature916': 990, 'feature199': 991, 'feature22': 992, 'feature250': 993, 'feature697': 994, 'feature988': 995, 'feature274': 996, 'feature57': 997, 'feature184': 998, 'feature457': 999}}\n",
      "Starting new dataset\n",
      "Starting new dataset\n",
      "Starting new dataset\n",
      "CPU times: user 106 ms, sys: 43.7 ms, total: 150 ms\n",
      "Wall time: 148 ms\n"
     ]
    }
   ],
   "source": [
    "%time set3 = merge_zarr_datasets(test_set3)"
   ]
  },
  {
   "cell_type": "code",
   "execution_count": null,
   "metadata": {},
   "outputs": [],
   "source": []
  },
  {
   "cell_type": "code",
   "execution_count": 252,
   "metadata": {},
   "outputs": [
    {
     "data": {
      "text/plain": [
       "array([6883, 5836, 8601, ..., 6265, 5734, 5191])"
      ]
     },
     "execution_count": 252,
     "metadata": {},
     "output_type": "execute_result"
    }
   ],
   "source": [
    "np.random.permutation(10000)"
   ]
  },
  {
   "cell_type": "code",
   "execution_count": 6,
   "metadata": {},
   "outputs": [
    {
     "name": "stdout",
     "output_type": "stream",
     "text": [
      "'Metadata size: 48 bytes'\n"
     ]
    }
   ],
   "source": [
    "import sys\n",
    "arr = zarr.zeros(shape=(10000, 5000), dtype=np.int64, chunks=(5000, 50000), overwrite=True, store='check.zarr')\n",
    "arr[:] = np.random.randint(0, 100, (10000, 5000))\n",
    "metadata_size = sys.getsizeof(arr)\n",
    "print(f\"Metadata size: {metadata_size} bytes\")"
   ]
  },
  {
   "cell_type": "code",
   "execution_count": 7,
   "metadata": {},
   "outputs": [
    {
     "data": {
      "text/html": [
       "<table class=\"zarr-info\"><tbody><tr><th style=\"text-align: left\">Type</th><td style=\"text-align: left\">zarr.core.Array</td></tr><tr><th style=\"text-align: left\">Data type</th><td style=\"text-align: left\">int64</td></tr><tr><th style=\"text-align: left\">Shape</th><td style=\"text-align: left\">(10000, 5000)</td></tr><tr><th style=\"text-align: left\">Chunk shape</th><td style=\"text-align: left\">(5000, 50000)</td></tr><tr><th style=\"text-align: left\">Order</th><td style=\"text-align: left\">C</td></tr><tr><th style=\"text-align: left\">Read-only</th><td style=\"text-align: left\">False</td></tr><tr><th style=\"text-align: left\">Compressor</th><td style=\"text-align: left\">Blosc(cname='lz4', clevel=5, shuffle=SHUFFLE, blocksize=0)</td></tr><tr><th style=\"text-align: left\">Store type</th><td style=\"text-align: left\">zarr.storage.DirectoryStore</td></tr><tr><th style=\"text-align: left\">No. bytes</th><td style=\"text-align: left\">400000000 (381.5M)</td></tr><tr><th style=\"text-align: left\">No. bytes stored</th><td style=\"text-align: left\">66218308 (63.2M)</td></tr><tr><th style=\"text-align: left\">Storage ratio</th><td style=\"text-align: left\">6.0</td></tr><tr><th style=\"text-align: left\">Chunks initialized</th><td style=\"text-align: left\">2/2</td></tr></tbody></table>"
      ],
      "text/plain": [
       "Type               : zarr.core.Array\n",
       "Data type          : int64\n",
       "Shape              : (10000, 5000)\n",
       "Chunk shape        : (5000, 50000)\n",
       "Order              : C\n",
       "Read-only          : False\n",
       "Compressor         : Blosc(cname='lz4', clevel=5, shuffle=SHUFFLE, blocksize=0)\n",
       "Store type         : zarr.storage.DirectoryStore\n",
       "No. bytes          : 400000000 (381.5M)\n",
       "No. bytes stored   : 66218308 (63.2M)\n",
       "Storage ratio      : 6.0\n",
       "Chunks initialized : 2/2"
      ]
     },
     "execution_count": 7,
     "metadata": {},
     "output_type": "execute_result"
    }
   ],
   "source": [
    "arr.info"
   ]
  },
  {
   "cell_type": "code",
   "execution_count": 8,
   "metadata": {},
   "outputs": [
    {
     "data": {
      "text/plain": [
       "48"
      ]
     },
     "execution_count": 8,
     "metadata": {},
     "output_type": "execute_result"
    }
   ],
   "source": [
    "sys.getsizeof(arr)"
   ]
  },
  {
   "cell_type": "code",
   "execution_count": 9,
   "metadata": {},
   "outputs": [
    {
     "data": {
      "text/plain": [
       "400000128"
      ]
     },
     "execution_count": 9,
     "metadata": {},
     "output_type": "execute_result"
    }
   ],
   "source": [
    "sys.getsizeof(arr[...])"
   ]
  },
  {
   "cell_type": "code",
   "execution_count": 10,
   "metadata": {},
   "outputs": [
    {
     "data": {
      "text/plain": [
       "2000128"
      ]
     },
     "execution_count": 10,
     "metadata": {},
     "output_type": "execute_result"
    }
   ],
   "source": [
    "sys.getsizeof(arr[0:50, :])"
   ]
  },
  {
   "cell_type": "code",
   "execution_count": null,
   "metadata": {},
   "outputs": [],
   "source": []
  }
 ],
 "metadata": {
  "kernelspec": {
   "display_name": "zarr",
   "language": "python",
   "name": "python3"
  },
  "language_info": {
   "codemirror_mode": {
    "name": "ipython",
    "version": 3
   },
   "file_extension": ".py",
   "mimetype": "text/x-python",
   "name": "python",
   "nbconvert_exporter": "python",
   "pygments_lexer": "ipython3",
   "version": "3.10.14"
  }
 },
 "nbformat": 4,
 "nbformat_minor": 2
}
