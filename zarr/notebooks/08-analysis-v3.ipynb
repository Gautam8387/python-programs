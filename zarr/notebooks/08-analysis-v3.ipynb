{
 "cells": [
  {
   "cell_type": "code",
   "execution_count": 2,
   "metadata": {},
   "outputs": [],
   "source": [
    "import sys\n",
    "sys.path.append('..')\n",
    "\n",
    "from analysis_data import feature_test, row_test, mix_test\n",
    "from zarr_merge_v3 import merge_zarr_datasets\n",
    "from utils import print_func\n",
    "import numpy as np\n",
    "import zarr"
   ]
  },
  {
   "cell_type": "code",
   "execution_count": 3,
   "metadata": {},
   "outputs": [
    {
     "name": "stdout",
     "output_type": "stream",
     "text": [
      "Array Type: type_C | Num Features: 2 | Chunk Size: (2500, 2)\n",
      "Array Type: type_B | Num Features: 2 | Chunk Size: (2500, 2)\n",
      "Array Type: type_A | Num Features: 4 | Chunk Size: (2500, 4)\n",
      "Starting new dataset\n",
      "\tRunning for array type: type_C\n",
      "\tRunning for array type: type_B\n",
      "\t\tNo Batches\n",
      "\tRunning for array type: type_A\n",
      "\t\tNo Batches\n",
      "Starting new dataset\n",
      "\tRunning for array type: type_C\n",
      "\t\tNo Batches\n",
      "\tRunning for array type: type_B\n",
      "\tRunning for array type: type_A\n",
      "\t\tNo Batches\n",
      "CPU times: user 14.8 ms, sys: 3.05 ms, total: 17.9 ms\n",
      "Wall time: 18.3 ms\n",
      "Array Type: type_C\n",
      "feature7\tfeature6\t\n",
      "0               0               \n",
      "11              10              \n",
      "0               0               \n",
      "13              12              \n",
      "\n",
      "Array Type: type_B\n",
      "feature5\tfeature4\t\n",
      "0               0               \n",
      "6               5               \n",
      "0               0               \n",
      "8               7               \n",
      "\n",
      "Array Type: type_A\n",
      "feature2\tfeature1\tfeature4\tfeature3\t\n",
      "8               7               9               0               \n",
      "2               1               0               0               \n",
      "11              10              12              0               \n",
      "4               3               0               0               \n",
      "\n"
     ]
    }
   ],
   "source": [
    "dataset1 = {\n",
    "    \"type_A\": (zarr.array([[1, 2, 0], [3, 4, 0]]), [\"feature1\", \"feature2\", \"feature3\"]),\n",
    "    \"type_B\": (zarr.array([[5, 6], [7, 8]]), [\"feature4\", \"feature5\"])\n",
    "}\n",
    "dataset2 = {\n",
    "    \"type_A\": (zarr.array([[7, 8, 9], [10, 11, 12]]), [\"feature1\", \"feature2\", \"feature4\"]),\n",
    "    \"type_C\": (zarr.array([[10, 11], [12, 13]]), [\"feature6\", \"feature7\"])\n",
    "}\n",
    "qc = [dataset1, dataset2]\n",
    "%time setqc = merge_zarr_datasets(qc)\n",
    "print_func(setqc)"
   ]
  },
  {
   "cell_type": "code",
   "execution_count": 4,
   "metadata": {},
   "outputs": [],
   "source": [
    "f1_, f2_, f3_, f4_, f5_ = feature_test()"
   ]
  },
  {
   "cell_type": "code",
   "execution_count": 5,
   "metadata": {},
   "outputs": [
    {
     "name": "stdout",
     "output_type": "stream",
     "text": [
      "Array Type: type_C | Num Features: 10 | Chunk Size: (2500, 10)\n",
      "Array Type: type_B | Num Features: 10 | Chunk Size: (2500, 10)\n",
      "Array Type: type_A | Num Features: 10 | Chunk Size: (2500, 10)\n",
      "Array Type: type_D | Num Features: 10 | Chunk Size: (2500, 10)\n",
      "Starting new dataset\n",
      "\tRunning for array type: type_C\n",
      "\tRunning for array type: type_B\n",
      "\t\tNo Batches\n",
      "\tRunning for array type: type_A\n",
      "\t\tNo Batches\n",
      "\tRunning for array type: type_D\n",
      "Starting new dataset\n",
      "\tRunning for array type: type_C\n",
      "\t\tNo Batches\n",
      "\tRunning for array type: type_B\n",
      "\tRunning for array type: type_A\n",
      "\t\tNo Batches\n",
      "\tRunning for array type: type_D\n",
      "Starting new dataset\n",
      "\tRunning for array type: type_C\n",
      "\tRunning for array type: type_B\n",
      "\tRunning for array type: type_A\n",
      "\t\tNo Batches\n",
      "\tRunning for array type: type_D\n",
      "\t\tNo Batches\n",
      "CPU times: user 0 ns, sys: 15.3 ms, total: 15.3 ms\n",
      "Wall time: 21.9 ms\n"
     ]
    }
   ],
   "source": [
    "%time f1_t = merge_zarr_datasets(f1_)"
   ]
  },
  {
   "cell_type": "code",
   "execution_count": 6,
   "metadata": {},
   "outputs": [
    {
     "name": "stdout",
     "output_type": "stream",
     "text": [
      "Array Type: type_C | Num Features: 100 | Chunk Size: (2500, 100)\n",
      "Array Type: type_B | Num Features: 100 | Chunk Size: (2500, 100)\n",
      "Array Type: type_A | Num Features: 100 | Chunk Size: (2500, 100)\n",
      "Starting new dataset\n",
      "\tRunning for array type: type_C\n",
      "\tRunning for array type: type_B\n",
      "\t\tNo Batches\n",
      "\tRunning for array type: type_A\n",
      "\t\tNo Batches\n",
      "Starting new dataset\n",
      "\tRunning for array type: type_C\n",
      "\t\tNo Batches\n",
      "\tRunning for array type: type_B\n",
      "\tRunning for array type: type_A\n",
      "\t\tNo Batches\n",
      "Starting new dataset\n",
      "\tRunning for array type: type_C\n",
      "\tRunning for array type: type_B\n",
      "\t\tNo Batches\n",
      "\tRunning for array type: type_A\n",
      "\t\tNo Batches\n",
      "CPU times: user 18.2 ms, sys: 4.89 ms, total: 23.1 ms\n",
      "Wall time: 28.3 ms\n"
     ]
    }
   ],
   "source": [
    "%time f2_t = merge_zarr_datasets(f2_)"
   ]
  },
  {
   "cell_type": "code",
   "execution_count": 7,
   "metadata": {},
   "outputs": [
    {
     "name": "stdout",
     "output_type": "stream",
     "text": [
      "Array Type: type_C | Num Features: 1000 | Chunk Size: (2500, 1000)\n",
      "Array Type: type_B | Num Features: 1000 | Chunk Size: (2500, 1000)\n",
      "Array Type: type_A | Num Features: 1000 | Chunk Size: (2500, 1000)\n",
      "Array Type: type_D | Num Features: 1000 | Chunk Size: (2500, 1000)\n",
      "Starting new dataset\n",
      "\tRunning for array type: type_C\n",
      "\tRunning for array type: type_B\n",
      "\t\tNo Batches\n",
      "\tRunning for array type: type_A\n",
      "\t\tNo Batches\n",
      "\tRunning for array type: type_D\n",
      "Starting new dataset\n",
      "\tRunning for array type: type_C\n",
      "\t\tNo Batches\n",
      "\tRunning for array type: type_B\n",
      "\tRunning for array type: type_A\n",
      "\t\tNo Batches\n",
      "\tRunning for array type: type_D\n",
      "Starting new dataset\n",
      "\tRunning for array type: type_C\n",
      "\tRunning for array type: type_B\n",
      "\tRunning for array type: type_A\n",
      "\t\tNo Batches\n",
      "\tRunning for array type: type_D\n",
      "\t\tNo Batches\n",
      "CPU times: user 217 ms, sys: 17.8 ms, total: 234 ms\n",
      "Wall time: 86.9 ms\n"
     ]
    }
   ],
   "source": [
    "%time f3_t = merge_zarr_datasets(f3_)"
   ]
  },
  {
   "cell_type": "code",
   "execution_count": 8,
   "metadata": {},
   "outputs": [
    {
     "name": "stdout",
     "output_type": "stream",
     "text": [
      "Array Type: type_C | Num Features: 10000 | Chunk Size: (2500, 10000)\n",
      "Array Type: type_B | Num Features: 10000 | Chunk Size: (2500, 10000)\n",
      "Array Type: type_A | Num Features: 10000 | Chunk Size: (2500, 10000)\n",
      "Array Type: type_D | Num Features: 10000 | Chunk Size: (2500, 10000)\n",
      "Starting new dataset\n",
      "\tRunning for array type: type_C\n",
      "\tRunning for array type: type_B\n",
      "\t\tNo Batches\n",
      "\tRunning for array type: type_A\n",
      "\t\tNo Batches\n",
      "\tRunning for array type: type_D\n",
      "Starting new dataset\n",
      "\tRunning for array type: type_C\n",
      "\t\tNo Batches\n",
      "\tRunning for array type: type_B\n",
      "\tRunning for array type: type_A\n",
      "\t\tNo Batches\n",
      "\tRunning for array type: type_D\n",
      "Starting new dataset\n",
      "\tRunning for array type: type_C\n",
      "\tRunning for array type: type_B\n",
      "\tRunning for array type: type_A\n",
      "\t\tNo Batches\n",
      "\tRunning for array type: type_D\n",
      "\t\tNo Batches\n",
      "CPU times: user 2.3 s, sys: 222 ms, total: 2.52 s\n",
      "Wall time: 751 ms\n"
     ]
    }
   ],
   "source": [
    "%time f4_t = merge_zarr_datasets(f4_)"
   ]
  },
  {
   "cell_type": "code",
   "execution_count": 9,
   "metadata": {},
   "outputs": [
    {
     "name": "stdout",
     "output_type": "stream",
     "text": [
      "Array Type: type_C | Num Features: 100000 | Chunk Size: (1342, 100000)\n",
      "Array Type: type_B | Num Features: 100000 | Chunk Size: (1342, 100000)\n",
      "Array Type: type_A | Num Features: 100000 | Chunk Size: (1342, 100000)\n",
      "Array Type: type_D | Num Features: 100000 | Chunk Size: (1342, 100000)\n",
      "Starting new dataset\n",
      "\tRunning for array type: type_C\n",
      "\tRunning for array type: type_B\n",
      "\t\tNo Batches\n",
      "\tRunning for array type: type_A\n",
      "\t\tNo Batches\n",
      "\tRunning for array type: type_D\n",
      "Starting new dataset\n",
      "\tRunning for array type: type_C\n",
      "\t\tNo Batches\n",
      "\tRunning for array type: type_B\n",
      "\tRunning for array type: type_A\n",
      "\t\tNo Batches\n",
      "\tRunning for array type: type_D\n",
      "Starting new dataset\n",
      "\tRunning for array type: type_C\n",
      "\tRunning for array type: type_B\n",
      "\tRunning for array type: type_A\n",
      "\t\tNo Batches\n",
      "\tRunning for array type: type_D\n",
      "\t\tNo Batches\n",
      "CPU times: user 13.5 s, sys: 1.85 s, total: 15.4 s\n",
      "Wall time: 5.94 s\n"
     ]
    }
   ],
   "source": [
    "%time f5_t = merge_zarr_datasets(f5_)"
   ]
  },
  {
   "cell_type": "code",
   "execution_count": 10,
   "metadata": {},
   "outputs": [
    {
     "name": "stderr",
     "output_type": "stream",
     "text": [
      "/home/gautam-ahuja/miniconda3/envs/zarr/lib/python3.10/site-packages/zarr/creation.py:190: UserWarning: ignoring keyword argument 'chunk'\n",
      "  compressor, fill_value = _kwargs_compat(compressor, fill_value, kwargs)\n"
     ]
    }
   ],
   "source": [
    "r1_, r2_, r3_, r4_, r5_ = row_test()"
   ]
  },
  {
   "cell_type": "code",
   "execution_count": 11,
   "metadata": {},
   "outputs": [
    {
     "name": "stdout",
     "output_type": "stream",
     "text": [
      "Array Type: type_C | Num Features: 10 | Chunk Size: (2500, 10)\n",
      "Array Type: type_B | Num Features: 10 | Chunk Size: (2500, 10)\n",
      "Array Type: type_A | Num Features: 10 | Chunk Size: (2500, 10)\n",
      "Array Type: type_D | Num Features: 10 | Chunk Size: (2500, 10)\n",
      "Starting new dataset\n",
      "\tRunning for array type: type_C\n",
      "\tRunning for array type: type_B\n",
      "\t\tNo Batches\n",
      "\tRunning for array type: type_A\n",
      "\t\tNo Batches\n",
      "\tRunning for array type: type_D\n",
      "Starting new dataset\n",
      "\tRunning for array type: type_C\n",
      "\t\tNo Batches\n",
      "\tRunning for array type: type_B\n",
      "\tRunning for array type: type_A\n",
      "\t\tNo Batches\n",
      "\tRunning for array type: type_D\n",
      "Starting new dataset\n",
      "\tRunning for array type: type_C\n",
      "\tRunning for array type: type_B\n",
      "\tRunning for array type: type_A\n",
      "\t\tNo Batches\n",
      "\tRunning for array type: type_D\n",
      "\t\tNo Batches\n",
      "CPU times: user 0 ns, sys: 16.1 ms, total: 16.1 ms\n",
      "Wall time: 24.3 ms\n"
     ]
    }
   ],
   "source": [
    "%time r1_t = merge_zarr_datasets(r1_)"
   ]
  },
  {
   "cell_type": "code",
   "execution_count": 12,
   "metadata": {},
   "outputs": [
    {
     "name": "stdout",
     "output_type": "stream",
     "text": [
      "Array Type: type_C | Num Features: 10 | Chunk Size: (2500, 10)\n",
      "Array Type: type_B | Num Features: 10 | Chunk Size: (2500, 10)\n",
      "Array Type: type_A | Num Features: 10 | Chunk Size: (2500, 10)\n",
      "Array Type: type_D | Num Features: 10 | Chunk Size: (2500, 10)\n",
      "Starting new dataset\n",
      "\tRunning for array type: type_C\n",
      "\tRunning for array type: type_B\n",
      "\t\tNo Batches\n",
      "\tRunning for array type: type_A\n",
      "\t\tNo Batches\n",
      "\tRunning for array type: type_D\n",
      "Starting new dataset\n",
      "\tRunning for array type: type_C\n",
      "\t\tNo Batches\n",
      "\tRunning for array type: type_B\n",
      "\tRunning for array type: type_A\n",
      "\t\tNo Batches\n",
      "\tRunning for array type: type_D\n",
      "Starting new dataset\n",
      "\tRunning for array type: type_C\n",
      "\tRunning for array type: type_B\n",
      "\tRunning for array type: type_A\n",
      "\t\tNo Batches\n",
      "\tRunning for array type: type_D\n",
      "\t\tNo Batches\n",
      "CPU times: user 42.6 ms, sys: 22.6 ms, total: 65.2 ms\n",
      "Wall time: 63 ms\n"
     ]
    }
   ],
   "source": [
    "%time r2_t = merge_zarr_datasets(r2_)"
   ]
  },
  {
   "cell_type": "code",
   "execution_count": 13,
   "metadata": {},
   "outputs": [
    {
     "name": "stdout",
     "output_type": "stream",
     "text": [
      "Array Type: type_C | Num Features: 10 | Chunk Size: (2500, 10)\n",
      "Array Type: type_B | Num Features: 10 | Chunk Size: (2500, 10)\n",
      "Array Type: type_A | Num Features: 10 | Chunk Size: (2500, 10)\n",
      "Array Type: type_D | Num Features: 10 | Chunk Size: (2500, 10)\n",
      "Starting new dataset\n",
      "\tRunning for array type: type_C\n",
      "\tRunning for array type: type_B\n",
      "\t\tNo Batches\n",
      "\tRunning for array type: type_A\n",
      "\t\tNo Batches\n",
      "\tRunning for array type: type_D\n",
      "Starting new dataset\n",
      "\tRunning for array type: type_C\n",
      "\t\tNo Batches\n",
      "\tRunning for array type: type_B\n",
      "\tRunning for array type: type_A\n",
      "\t\tNo Batches\n",
      "\tRunning for array type: type_D\n",
      "Starting new dataset\n",
      "\tRunning for array type: type_C\n",
      "\tRunning for array type: type_B\n",
      "\tRunning for array type: type_A\n",
      "\t\tNo Batches\n",
      "\tRunning for array type: type_D\n",
      "\t\tNo Batches\n",
      "CPU times: user 21.8 ms, sys: 0 ns, total: 21.8 ms\n",
      "Wall time: 21.7 ms\n"
     ]
    }
   ],
   "source": [
    "%time r3_t = merge_zarr_datasets(r3_)"
   ]
  },
  {
   "cell_type": "code",
   "execution_count": 14,
   "metadata": {},
   "outputs": [
    {
     "name": "stdout",
     "output_type": "stream",
     "text": [
      "Array Type: type_C | Num Features: 10 | Chunk Size: (2500, 10)\n",
      "Array Type: type_B | Num Features: 10 | Chunk Size: (2500, 10)\n",
      "Array Type: type_A | Num Features: 10 | Chunk Size: (2500, 10)\n",
      "Array Type: type_D | Num Features: 10 | Chunk Size: (2500, 10)\n",
      "Starting new dataset\n",
      "\tRunning for array type: type_C\n",
      "\tRunning for array type: type_B\n",
      "\tNumber of Batches: 4 | Chunk Rows: 2500\n",
      "\tRunning for array type: type_A\n",
      "\tNumber of Batches: 4 | Chunk Rows: 2500\n",
      "\tRunning for array type: type_D\n",
      "Starting new dataset\n",
      "\tRunning for array type: type_C\n",
      "\tNumber of Batches: 4 | Chunk Rows: 2500\n",
      "\tRunning for array type: type_B\n",
      "\tRunning for array type: type_A\n",
      "\tNumber of Batches: 4 | Chunk Rows: 2500\n",
      "\tRunning for array type: type_D\n",
      "Starting new dataset\n",
      "\tRunning for array type: type_C\n",
      "\tRunning for array type: type_B\n",
      "\tRunning for array type: type_A\n",
      "\tNumber of Batches: 4 | Chunk Rows: 2500\n",
      "\tRunning for array type: type_D\n",
      "\tNumber of Batches: 4 | Chunk Rows: 2500\n",
      "CPU times: user 180 ms, sys: 10 ms, total: 190 ms\n",
      "Wall time: 196 ms\n"
     ]
    }
   ],
   "source": [
    "%time r4_t = merge_zarr_datasets(r4_)"
   ]
  },
  {
   "cell_type": "code",
   "execution_count": 15,
   "metadata": {},
   "outputs": [
    {
     "name": "stdout",
     "output_type": "stream",
     "text": [
      "Array Type: type_C | Num Features: 10 | Chunk Size: (2500, 10)\n",
      "Array Type: type_B | Num Features: 10 | Chunk Size: (2500, 10)\n",
      "Array Type: type_A | Num Features: 10 | Chunk Size: (2500, 10)\n",
      "Array Type: type_D | Num Features: 10 | Chunk Size: (2500, 10)\n",
      "Starting new dataset\n",
      "\tRunning for array type: type_C\n",
      "\tRunning for array type: type_B\n",
      "\tNumber of Batches: 40 | Chunk Rows: 2500\n",
      "\tRunning for array type: type_A\n",
      "\tNumber of Batches: 40 | Chunk Rows: 2500\n",
      "\tRunning for array type: type_D\n",
      "Starting new dataset\n",
      "\tRunning for array type: type_C\n",
      "\tNumber of Batches: 40 | Chunk Rows: 2500\n",
      "\tRunning for array type: type_B\n",
      "\tRunning for array type: type_A\n",
      "\tNumber of Batches: 40 | Chunk Rows: 2500\n",
      "\tRunning for array type: type_D\n",
      "Starting new dataset\n",
      "\tRunning for array type: type_C\n",
      "\tRunning for array type: type_B\n",
      "\tRunning for array type: type_A\n",
      "\tNumber of Batches: 40 | Chunk Rows: 2500\n",
      "\tRunning for array type: type_D\n",
      "\tNumber of Batches: 40 | Chunk Rows: 2500\n",
      "CPU times: user 23.4 s, sys: 57.1 ms, total: 23.4 s\n",
      "Wall time: 23.4 s\n"
     ]
    }
   ],
   "source": [
    "%time r5_t = merge_zarr_datasets(r5_)"
   ]
  },
  {
   "cell_type": "code",
   "execution_count": 16,
   "metadata": {},
   "outputs": [
    {
     "name": "stderr",
     "output_type": "stream",
     "text": [
      "/home/gautam-ahuja/miniconda3/envs/zarr/lib/python3.10/site-packages/zarr/creation.py:190: UserWarning: ignoring keyword argument 'chunk'\n",
      "  compressor, fill_value = _kwargs_compat(compressor, fill_value, kwargs)\n"
     ]
    }
   ],
   "source": [
    "m1_, m2_, m3_, m4_ = mix_test()"
   ]
  },
  {
   "cell_type": "code",
   "execution_count": 17,
   "metadata": {},
   "outputs": [
    {
     "name": "stdout",
     "output_type": "stream",
     "text": [
      "Array Type: type_C | Num Features: 10 | Chunk Size: (2500, 10)\n",
      "Array Type: type_B | Num Features: 10 | Chunk Size: (2500, 10)\n",
      "Array Type: type_A | Num Features: 10 | Chunk Size: (2500, 10)\n",
      "Array Type: type_D | Num Features: 10 | Chunk Size: (2500, 10)\n",
      "Starting new dataset\n",
      "\tRunning for array type: type_C\n",
      "\tRunning for array type: type_B\n",
      "\t\tNo Batches\n",
      "\tRunning for array type: type_A\n",
      "\t\tNo Batches\n",
      "\tRunning for array type: type_D\n",
      "Starting new dataset\n",
      "\tRunning for array type: type_C\n",
      "\t\tNo Batches\n",
      "\tRunning for array type: type_B\n",
      "\tRunning for array type: type_A\n",
      "\t\tNo Batches\n",
      "\tRunning for array type: type_D\n",
      "Starting new dataset\n",
      "\tRunning for array type: type_C\n",
      "\tRunning for array type: type_B\n",
      "\tRunning for array type: type_A\n",
      "\t\tNo Batches\n",
      "\tRunning for array type: type_D\n",
      "\t\tNo Batches\n",
      "CPU times: user 16.2 ms, sys: 9.67 ms, total: 25.9 ms\n",
      "Wall time: 28.2 ms\n"
     ]
    }
   ],
   "source": [
    "%time m1_t = merge_zarr_datasets(m1_)"
   ]
  },
  {
   "cell_type": "code",
   "execution_count": 18,
   "metadata": {},
   "outputs": [
    {
     "name": "stdout",
     "output_type": "stream",
     "text": [
      "Array Type: type_C | Num Features: 100 | Chunk Size: (2500, 100)\n",
      "Array Type: type_B | Num Features: 100 | Chunk Size: (2500, 100)\n",
      "Array Type: type_A | Num Features: 100 | Chunk Size: (2500, 100)\n",
      "Array Type: type_D | Num Features: 100 | Chunk Size: (2500, 100)\n",
      "Starting new dataset\n",
      "\tRunning for array type: type_C\n",
      "\tRunning for array type: type_B\n",
      "\t\tNo Batches\n",
      "\tRunning for array type: type_A\n",
      "\t\tNo Batches\n",
      "\tRunning for array type: type_D\n",
      "Starting new dataset\n",
      "\tRunning for array type: type_C\n",
      "\t\tNo Batches\n",
      "\tRunning for array type: type_B\n",
      "\tRunning for array type: type_A\n",
      "\t\tNo Batches\n",
      "\tRunning for array type: type_D\n",
      "Starting new dataset\n",
      "\tRunning for array type: type_C\n",
      "\tRunning for array type: type_B\n",
      "\tRunning for array type: type_A\n",
      "\t\tNo Batches\n",
      "\tRunning for array type: type_D\n",
      "\t\tNo Batches\n",
      "CPU times: user 19.3 ms, sys: 9.95 ms, total: 29.2 ms\n",
      "Wall time: 28.4 ms\n"
     ]
    }
   ],
   "source": [
    "%time m2_t = merge_zarr_datasets(m2_)"
   ]
  },
  {
   "cell_type": "code",
   "execution_count": 19,
   "metadata": {},
   "outputs": [
    {
     "name": "stdout",
     "output_type": "stream",
     "text": [
      "Array Type: type_C | Num Features: 1000 | Chunk Size: (2500, 1000)\n",
      "Array Type: type_B | Num Features: 1000 | Chunk Size: (2500, 1000)\n",
      "Array Type: type_A | Num Features: 1000 | Chunk Size: (2500, 1000)\n",
      "Array Type: type_D | Num Features: 1000 | Chunk Size: (2500, 1000)\n",
      "Starting new dataset\n",
      "\tRunning for array type: type_C\n",
      "\tRunning for array type: type_B\n",
      "\t\tNo Batches\n",
      "\tRunning for array type: type_A\n",
      "\t\tNo Batches\n",
      "\tRunning for array type: type_D\n",
      "Starting new dataset\n",
      "\tRunning for array type: type_C\n",
      "\t\tNo Batches\n",
      "\tRunning for array type: type_B\n",
      "\tRunning for array type: type_A\n",
      "\t\tNo Batches\n",
      "\tRunning for array type: type_D\n",
      "Starting new dataset\n",
      "\tRunning for array type: type_C\n",
      "\tRunning for array type: type_B\n",
      "\tRunning for array type: type_A\n",
      "\t\tNo Batches\n",
      "\tRunning for array type: type_D\n",
      "\t\tNo Batches\n",
      "CPU times: user 438 ms, sys: 35 ms, total: 473 ms\n",
      "Wall time: 286 ms\n"
     ]
    }
   ],
   "source": [
    "%time m3_t = merge_zarr_datasets(m3_)"
   ]
  },
  {
   "cell_type": "code",
   "execution_count": 20,
   "metadata": {},
   "outputs": [
    {
     "name": "stdout",
     "output_type": "stream",
     "text": [
      "Array Type: type_C | Num Features: 10000 | Chunk Size: (2500, 10000)\n",
      "Array Type: type_B | Num Features: 10000 | Chunk Size: (2500, 10000)\n",
      "Array Type: type_A | Num Features: 10000 | Chunk Size: (2500, 10000)\n",
      "Array Type: type_D | Num Features: 10000 | Chunk Size: (2500, 10000)\n",
      "Starting new dataset\n",
      "\tRunning for array type: type_C\n",
      "\tRunning for array type: type_B\n",
      "\tNumber of Batches: 4 | Chunk Rows: 2500\n",
      "\tRunning for array type: type_A\n",
      "\tNumber of Batches: 4 | Chunk Rows: 2500\n",
      "\tRunning for array type: type_D\n",
      "Starting new dataset\n",
      "\tRunning for array type: type_C\n",
      "\tNumber of Batches: 4 | Chunk Rows: 2500\n",
      "\tRunning for array type: type_B\n",
      "\tRunning for array type: type_A\n",
      "\tNumber of Batches: 4 | Chunk Rows: 2500\n",
      "\tRunning for array type: type_D\n",
      "Starting new dataset\n",
      "\tRunning for array type: type_C\n",
      "\tRunning for array type: type_B\n",
      "\tRunning for array type: type_A\n",
      "\tNumber of Batches: 4 | Chunk Rows: 2500\n",
      "\tRunning for array type: type_D\n",
      "\tNumber of Batches: 4 | Chunk Rows: 2500\n",
      "CPU times: user 28.9 s, sys: 3.17 s, total: 32 s\n",
      "Wall time: 25.9 s\n"
     ]
    }
   ],
   "source": [
    "%time m4_t = merge_zarr_datasets(m4_)"
   ]
  },
  {
   "cell_type": "code",
   "execution_count": null,
   "metadata": {},
   "outputs": [],
   "source": []
  }
 ],
 "metadata": {
  "kernelspec": {
   "display_name": "zarr",
   "language": "python",
   "name": "python3"
  },
  "language_info": {
   "codemirror_mode": {
    "name": "ipython",
    "version": 3
   },
   "file_extension": ".py",
   "mimetype": "text/x-python",
   "name": "python",
   "nbconvert_exporter": "python",
   "pygments_lexer": "ipython3",
   "version": "3.10.14"
  }
 },
 "nbformat": 4,
 "nbformat_minor": 2
}
